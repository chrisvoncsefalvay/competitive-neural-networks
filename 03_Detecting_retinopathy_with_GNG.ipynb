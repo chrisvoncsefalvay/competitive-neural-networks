{
 "cells": [
  {
   "cell_type": "markdown",
   "metadata": {},
   "source": [
    "# Using Growing Neural Gas to quantify diabetic retinopathy\n",
    "\n",
    "[Chris von Csefalvay](mailto:csefalvayk@starschema.net) | [Starschema](https://starschema.net) | 27JAN2019"
   ]
  },
  {
   "cell_type": "markdown",
   "metadata": {
    "toc": true
   },
   "source": [
    "<h1>Table of Contents<span class=\"tocSkip\"></span></h1>\n",
    "<div class=\"toc\"><ul class=\"toc-item\"><li><span><a href=\"#About-Growing-Neural-Gas-algorithms\" data-toc-modified-id=\"About-Growing-Neural-Gas-algorithms-1\"><span class=\"toc-item-num\">1&nbsp;&nbsp;</span>About Growing Neural Gas algorithms</a></span></li><li><span><a href=\"#The-GNG-algorithm\" data-toc-modified-id=\"The-GNG-algorithm-2\"><span class=\"toc-item-num\">2&nbsp;&nbsp;</span>The GNG algorithm</a></span></li><li><span><a href=\"#Counting-hard-exudate-lesions-on-fundoscopy-photos-using-GNGs\" data-toc-modified-id=\"Counting-hard-exudate-lesions-on-fundoscopy-photos-using-GNGs-3\"><span class=\"toc-item-num\">3&nbsp;&nbsp;</span>Counting hard exudate lesions on fundoscopy photos using GNGs</a></span><ul class=\"toc-item\"><li><span><a href=\"#Loading-the-image-files-and-basic-configuration\" data-toc-modified-id=\"Loading-the-image-files-and-basic-configuration-3.1\"><span class=\"toc-item-num\">3.1&nbsp;&nbsp;</span>Loading the image files and basic configuration</a></span></li><li><span><a href=\"#Loading-the-mask-and-applying-consensus-levels\" data-toc-modified-id=\"Loading-the-mask-and-applying-consensus-levels-3.2\"><span class=\"toc-item-num\">3.2&nbsp;&nbsp;</span>Loading the mask and applying consensus levels</a></span></li><li><span><a href=\"#Filtering-ROI-for-hard-exudates-based-on-hue\" data-toc-modified-id=\"Filtering-ROI-for-hard-exudates-based-on-hue-3.3\"><span class=\"toc-item-num\">3.3&nbsp;&nbsp;</span>Filtering ROI for hard exudates based on hue</a></span></li><li><span><a href=\"#Point-conversion\" data-toc-modified-id=\"Point-conversion-3.4\"><span class=\"toc-item-num\">3.4&nbsp;&nbsp;</span>Point conversion</a></span></li><li><span><a href=\"#Apply-and-train-GNG\" data-toc-modified-id=\"Apply-and-train-GNG-3.5\"><span class=\"toc-item-num\">3.5&nbsp;&nbsp;</span>Apply and train GNG</a></span><ul class=\"toc-item\"><li><span><a href=\"#Create-helper-functions-for-analysis-of-resulting-GNG\" data-toc-modified-id=\"Create-helper-functions-for-analysis-of-resulting-GNG-3.5.1\"><span class=\"toc-item-num\">3.5.1&nbsp;&nbsp;</span>Create helper functions for analysis of resulting GNG</a></span></li><li><span><a href=\"#Running-and-training-GNG\" data-toc-modified-id=\"Running-and-training-GNG-3.5.2\"><span class=\"toc-item-num\">3.5.2&nbsp;&nbsp;</span>Running and training GNG</a></span></li></ul></li><li><span><a href=\"#Calculating-lesion-area\" data-toc-modified-id=\"Calculating-lesion-area-3.6\"><span class=\"toc-item-num\">3.6&nbsp;&nbsp;</span>Calculating lesion area</a></span></li></ul></li><li><span><a href=\"#Comparing-all-subjects'-lesion-areas\" data-toc-modified-id=\"Comparing-all-subjects'-lesion-areas-4\"><span class=\"toc-item-num\">4&nbsp;&nbsp;</span>Comparing all subjects' lesion areas</a></span></li></ul></div>"
   ]
  },
  {
   "cell_type": "markdown",
   "metadata": {},
   "source": [
    "## About Growing Neural Gas algorithms"
   ]
  },
  {
   "cell_type": "markdown",
   "metadata": {},
   "source": [
    "Growing Neural Gas (GNG) is a relatively simple algorithm that, just as the other competitive model we have encountered in the previous chapter, allows for learning and representing topology. It is, thus, a form of a **topology-representing network**, and as we have seen in [Part 1](01_Funderstanding_competitive_neural_networks.ipynb), it is capable of approximating something as complex as the topology of a human face — producing something quite recognisable to a human observer while reducing information significantly. The animation to the left, for instance, demonstrates that something as complex as the human face can be approximated with significant efficiency to create an image that would be unmistakable to an observer."
   ]
  },
  {
   "cell_type": "markdown",
   "metadata": {},
   "source": [
    "![](assets/gng_principle.png)"
   ]
  },
  {
   "cell_type": "markdown",
   "metadata": {},
   "source": [
    "## The GNG algorithm"
   ]
  },
  {
   "cell_type": "markdown",
   "metadata": {},
   "source": [
    "\\begin{definition}\\label{def:gng_algo_1} **The Growing Neural Gas algorithm (1) – the GNG graph**\n",
    "\n",
    "Let $\\mathcal{G}$ be a Growing Neural Gas with $\\delta$ inputs. Then, there exists a corrresponding graph $G = (V, E)$. \n",
    "\n",
    "At any time $t \\ge 0$, $V(t)$ is a set of nodes $V_{1 \\cdots m}$ and $E(t)$ a set of edges $E_{1 \\cdots n}$.\n",
    "\\end{definition}"
   ]
  },
  {
   "cell_type": "markdown",
   "metadata": {},
   "source": [
    "Note that in the above, the term 'node' is synonymous with 'neuron'."
   ]
  },
  {
   "cell_type": "markdown",
   "metadata": {},
   "source": [
    "\\begin{definition}\\label{def:gng_algo_2} **The Growing Neural Gas algorithm (cont. 2) – the weight vector of $V_i$ at $t$**\n",
    "\n",
    "$V_i \\in V$ at time $t$ is also associated with a $\\delta$-element vector $\\mathbf{v}_{i} (t)$. This is sometimes referred to as the weight vector of $V_i$ at $t$, and represents the position of $V_i$ in $\\mathbb{R}^{\\delta}$.\n",
    "\n",
    "The distance between two nodes $V_i(t)$ and $V_j(t)$ is defined as\n",
    "\n",
    "\\begin{equation}\\label{eq:dist}\n",
    "\\Delta\\Big(V_i(t), V_j(t)\\Big) = \\sqrt{ \\sum_{k = 1}^{\\delta} (\\mathbf{v}_{i}(t)_k - \\mathbf{v}_{j}(t)_k)^2}\n",
    "\\end{equation}\n",
    "\n",
    "\\end{definition}"
   ]
  },
  {
   "cell_type": "markdown",
   "metadata": {},
   "source": [
    "The use of 'weight vector' may be confusing. Unlike weight vectors in error correction networks, like feed-forward backpropagation neural nets, this weight wector does not have propagated weights. Rather, the 'weights' are simply a position vector that allows the algorithm to meaningfully approximate topologies by assigning a position in $\\mathbb{R}^{\\delta}$ space to each node (neuron)."
   ]
  },
  {
   "cell_type": "markdown",
   "metadata": {},
   "source": [
    "\\begin{definition}\\label{def:gng_algo_3} **The Growing Neural Gas algorithm (cont. 3) – edges**\n",
    "\n",
    "The edge between $V_i$ and $V_j$ is denoted $E_{i, j}$. \n",
    "\n",
    "The magnitude (length) of the edge $E_{i, j}$, represented by $\\Vert E_{i, j} \\Vert$, is defined as the distance between $E_i(t)$ and $E_j(t)$. Using the formula in Equation \\ref{eq:dist},\n",
    "\n",
    "\\begin{equation}\\label{eq:edge_length}\n",
    "\\Vert E_{i, j} \\Vert = \\Delta\\Big(V_i(t), V_j(t)\\Big) = \\sqrt{ \\sum_{k = 1}^{\\delta} (\\mathbf{v}_{i}(t)_k - \\mathbf{v}_{j}(t)_k)^2}\n",
    "\\end{equation}\n",
    "\n",
    "Each edge has an age. $\\psi (E_{i, j})$ denotes the age of the edge $E_{i, j}$.\n",
    "\n",
    "The edge operator $\\mathbf{E}(V_i) \\mid V_i \\in V$ returns all edges emanating from $V_i$. Formally,\n",
    "\n",
    "\\begin{equation}\\label{eq:edge_operator}\n",
    "\\mathbf{E}(V_i) = \\{ E(V_i, x) \\cup E(x, V_i) \\mid x \\in V \\land x \\neq V_i \\}\n",
    "\\end{equation}\n",
    "\n",
    "The adjacency operator $\\mathbf{A}(V_i) \\mid V_i in V$ returns all nodes connected to $V_i$. Formally, \n",
    "\n",
    "\\begin{equation}\\label{eq:adjacency_operator}\n",
    "\\mathbf{A}(V_i) = \\{ x \\mid E(V_i, x) \\in V \\lor E(x, V_i) \\in V)\n",
    "\\end{equation}\n",
    "\n",
    "\\end{definition}"
   ]
  },
  {
   "cell_type": "markdown",
   "metadata": {},
   "source": [
    "With that, let us consider the GNG algorithm itself.\\cite{fritzke1995growing}"
   ]
  },
  {
   "cell_type": "markdown",
   "metadata": {},
   "source": [
    "\\begin{definition}\\label{def:gng_algo} **The Growing Neural Gas algorithm (cont. 4) - algorithm**\n",
    "\n",
    "Let $\\mathcal{G}$ be a Growing Neural Gas initialised with $v_{init}$ nodes, with $v_{init} \\ge 2$ and $\\mathbf{v}_{1}(0) \\cdots \\mathbf{v}_{init}(0)$ being each randomly initialised.\n",
    "\n",
    "Let further be defined a maximum age $\\psi_{max}$, as well as a primary learning rate $\\mu$ and a secondary learning rate $\\mu^\\prime$, with $\\mu \\ge \\mu^\\prime$, and an addition rate $\\theta$, which specifies the frequency (in iterations) of inserting new neurons. A maximum number of neurons $N_{max}$ may be defined.\n",
    "\n",
    "Let $D$ be an $\\mathcal{l} \\times \\delta$ matrix, with each row containing the coordinates of a data point in $\\mathbb{R}^{\\delta}$ space.\n",
    "\n",
    "\\begin{enumerate}\n",
    "    \\item For iteration $t$, select a row $\\mathbf{d}(t)$ from $D$.\n",
    "    \\item For each node $N \\in V$, calculate the error by reference to Equation \\ref{eq:dist}, i.e. $\\Delta(\\mathbf{d}(t), \\mathbf{n}(t))$. Add this to the cumulative error $\\Delta_{cum}(N)$, so that \n",
    "    \\begin{equation}\\label{eq:delta_cum}\n",
    "    \\Delta_{cum}(N) = \\sum_{k = 1}^{t} \\Delta(\\mathbf{d}(k), \\mathbf{n}(k))\n",
    "    \\end{equation}\n",
    "    \\item Determine the best-performing neuron (BPU) $N$, defined as $$ \\underset{N \\in V}{\\operatorname{arg\\ min}}\\ \\Delta \\Big( \\mathbf{d}, N \\Big) $$ where $\\Delta$ is the distance function laid out in Equation \\ref{eq:dist}.\n",
    "    \\item Determine the second-best performing neuron $N^{\\prime}$, defined as $$ \\underset{N^\\prime \\in V \\land N^\\prime \\neq N}{\\operatorname{arg\\ min}}\\ \\Delta \\Big( \\mathbf{d}, N^{\\prime} \\Big) $$ where, again, $\\Delta$ is the distance function laid out in Equation \\ref{eq:dist}.\n",
    "    \\item For all units in $\\mathbf{E}(V_N)$, wherre $\\mathbf{E}$ is the edge operator (see Equation \\ref{eq:edge_operator}) increment the age of each edge by one.\n",
    "    \\item Move $N$ towards $\\mathbf{d}$, so that $$\\Delta(\\mathbf{n}(t), \\mathbf{n}(t + 1)) = \\mu \\Delta(\\mathbf{d}(t), \\mathbf{n}(t))$$.\n",
    "    \\item Move all nodes in $\\mathbf{A}(N)$ towards $\\mathbf{d}$, so that for any $A_p \\in \\mathbf{A}(N)$, $$\\Delta(\\mathbf{a_p}(t), \\mathbf{a_p}(t + 1)) = \\mu^\\prime \\Delta(\\mathbf{d}(t), \\mathbf{a_p}(t)) \\mid A_p \\in \\mathbf{A}(N)$$\n",
    "    \\item If the edge $E_{N, N^\\prime}$ exists, set $\\psi(E_{N, N^\\prime})$ to $0$. If the edge does not exist, create it.\n",
    "    \\item For every edge $E_{i, j}$ in $E$, remove $E_{i, j}$ if $\\psi(E_{i, j}) > \\psi_{max}$.\n",
    "    \\item For every node $N \\in V$, if $\\mathbf{E}(N) = \\{\\}$, remove $N$.\n",
    "    \\item If $t \\mod \\theta = 0$:\n",
    "        \\begin{enumerate}\n",
    "            \\item Determine the overall worst-peforming neuron $W$, defined as $$ \\underset{W \\in V}{\\operatorname{arg\\ max}}\\ \\Delta_{cum}(W) $$ where $\\Delta_{cum}$ is the cumulative distance defined in Equation \\ref{eq:delta_cum}.\n",
    "            \\item Determine the worst-performing neighbour $W^\\prime$ of $W$, defined as $$ \\underset{W^\\prime \\in \\mathbf{A}(W)}{\\operatorname{arg\\ max}}\\ \\Delta_{cum}(W^\\prime) $$ where $\\Delta_{cum}$ is the cumulative distance defined in Equation \\ref{eq:delta_cum}.\n",
    "            \\item Insert a new unit $H$ between $W$ and $W^\\prime$, so that $$\\mathbf{h} = \\frac{1}{2} (\\mathbf{w} + \\mathbf{w}^\\prime) $$ \n",
    "        \\end{enumerate}\n",
    "    \\item Iterate until a given number of iterations is reached or, if defined, if $\\Vert V \\Vert = N_{max}$ is reached.\n",
    "\\end{enumerate}\n",
    "\n",
    "\\end{definition}"
   ]
  },
  {
   "cell_type": "markdown",
   "metadata": {},
   "source": [
    "While this might appear convoluted, the algorithm is actually quite simple: every time a new data point is considered, the nearest point is moved towards it by a constant multiple of the distance and its connected neurons are pulled along, albeit by somewhat less. If this sounds familiar (from SOFMs), it should! What makes this neural gas model **growing** is the ability to insert points where the model performs worst. Unlike SOFMs, which have to make do with the grid they have been given, the growing neural gas can grow and adapt to its environment and like an actual gas, approximate and fill spaces. This is what we'll be leveraging in the following use case demonstration."
   ]
  },
  {
   "cell_type": "markdown",
   "metadata": {},
   "source": [
    "## Counting hard exudate lesions on fundoscopy photos using GNGs"
   ]
  },
  {
   "cell_type": "markdown",
   "metadata": {},
   "source": [
    "Diabetic retinopathy, the destruction of the retinal blood vessels due to inadequate blood glucose control, is one of the leading causes of blindness in the developed world.\\cite{bunce2006leading} In diabetic retinopathy, long term inadequate blood glucose control leads to vascular damage, microaneurysms and exudates, where lipids (causing bright yellow hard exudates) or blood (resulting in pale, diffuse yellow soft exudates) have accumulated on the fundus of the eye.\\cite{fong2004retinopathy} In the following, we’ll be using GNG to quantify these abnormalities, and specifically count the number and area of lesions from a public fundoscopy dataset.\\cite{kauppi2007diaretdb1}\n",
    "\n",
    "The [DIARETDB1 data set](http://www2.it.lut.fi/project/imageret/diaretdb1/index.html) by the research group of Kauppi et al. (_op.cit._) at Lappeenranta University of Technology contains 89 digital fundoscopy images, that is, images of the fundus of the eye, of five healthy volunteers and 84 people with some degree of diabetic retinopathy. 36 of the images and all of the control images are negative for the presence of hard exudates altogether. The DIARETDB1 data set contains ROI (Region of Interest) masks, but those merely outline areas that show a particular clinical feature. Can we use Growing Neural Gas to count how many clusters of hard exudates are present in the regions of interest? You bet!"
   ]
  },
  {
   "cell_type": "code",
   "execution_count": 36,
   "metadata": {
    "init_cell": true
   },
   "outputs": [],
   "source": [
    "from skimage import color, io, filters, img_as_float, exposure, morphology\n",
    "from scipy.misc import toimage\n",
    "from scipy.spatial import ConvexHull\n",
    "from scipy.stats import kde\n",
    "import copy\n",
    "import datetime\n",
    "import json\n",
    "import math\n",
    "import random\n",
    "import cv2\n",
    "from matplotlib import pyplot as plt\n",
    "from matplotlib import cm\n",
    "import numpy as np\n",
    "from neupy import algorithms, environment\n",
    "import pandas as pd\n",
    "from tqdm import tqdm_notebook as tqdm"
   ]
  },
  {
   "cell_type": "markdown",
   "metadata": {},
   "source": [
    "### Loading the image files and basic configuration\n",
    "\n"
   ]
  },
  {
   "cell_type": "markdown",
   "metadata": {},
   "source": [
    "In this step, we're walking through the conversion and processing steps based on the data from a single subject. Subjects are identified by zero padded identifiers appended to images, e.g. the fundoscopy file `fundoscopies/image019.png` is the fundoscopy image of subject 019. We load the image as a float first:"
   ]
  },
  {
   "cell_type": "code",
   "execution_count": 3,
   "metadata": {},
   "outputs": [],
   "source": [
    "SUBJECT_ID = 14"
   ]
  },
  {
   "cell_type": "code",
   "execution_count": 4,
   "metadata": {},
   "outputs": [],
   "source": [
    "raw_image = img_as_float(io.imread(f\"assets/fundoscopies/image{SUBJECT_ID:03}.png\"))"
   ]
  },
  {
   "cell_type": "code",
   "execution_count": 5,
   "metadata": {},
   "outputs": [
    {
     "data": {
      "image/png": "[encoded data removed]",
      "text/plain": [
       "<matplotlib.figure.Figure at 0x7efc9235a3c8>"
      ]
     },
     "metadata": {
      "needs_background": "light"
     },
     "output_type": "display_data"
    }
   ],
   "source": [
    "io.imshow(raw_image)\n",
    "plt.show()"
   ]
  },
  {
   "cell_type": "markdown",
   "metadata": {},
   "source": [
    "### Loading the mask and applying consensus levels"
   ]
  },
  {
   "cell_type": "markdown",
   "metadata": {},
   "source": [
    "The masks, according to the specification,\\cite{kauppi2007diaretdb1} contain the expert annotations as greyscale images where each expert's annotation is layered over the others, so that for $q$ experts, the intensity of a pixel with $p$-expert consensus will be $\\frac{p}{q}$ (for greyscale values $[0, 1]$). The Kauppi _et al._ dataset has four levels of expert annotation,\\cite{kauppi2007diaretdb1} and we will store the number of agreeing experts in the constant `EXPERT_CONCURRENCE_REQUIRED`.\n",
    "\n",
    "\\begin{definition}\\label{def:expert_concurrence_masking} **Expert concurrence masking**\n",
    "\n",
    "Let the source image $S$ be a matrix $\\mathbb{R}^{m \\times n}$ so that $R_{i, j} \\in [0, 1] \\ \\forall \\ i \\in m \\ \\land \\ j \\in n$. \n",
    "\n",
    "Then the expert concurrence function for value ranges $[0, 1]$ is defined as the function $f : (\\mathbb{Z}^{+}, \\mathbb{Z}^{+}, \\mathbb{R}^{m \\times n}) \\to \\{ 0, 1 \\}^{m \\times n}$ so that\n",
    "\n",
    "$$ f(p, q, S)_{i, j} = \n",
    "    \\begin{cases}\n",
    "     1 & \\text{for } S_{i, j} \\geq \\frac{p}{q} \\\\\n",
    "     0 & \\text{for } S_{i, j} < \\frac{p}{q} \\\\\n",
    "    \\end{cases} \n",
    "    $$\n",
    "\n",
    "\\end{definition}\n"
   ]
  },
  {
   "cell_type": "code",
   "execution_count": 6,
   "metadata": {},
   "outputs": [],
   "source": [
    "EXPERT_CONCURRENCE_REQUIRED = 2"
   ]
  },
  {
   "cell_type": "code",
   "execution_count": 7,
   "metadata": {},
   "outputs": [],
   "source": [
    "def convert_to_binary_mask(mask, **kwargs):\n",
    "    expert_concurrence_required = kwargs.get(\"experts\", EXPERT_CONCURRENCE_REQUIRED)\n",
    "    binary_mask = mask > (expert_concurrence_required - 1) * 0.25\n",
    "    \n",
    "    structuring_element = kwargs.get(\"structuring_element\", morphology.disk)\n",
    "    structuring_element_size = kwargs.get(\"structuring_element_size\", 16)\n",
    "    \n",
    "    return morphology.opening(binary_mask, structuring_element(structuring_element_size))"
   ]
  },
  {
   "cell_type": "code",
   "execution_count": 8,
   "metadata": {},
   "outputs": [],
   "source": [
    "def mask_over_image(binary_mask, raw_image):\n",
    "    return np.where(binary_mask[..., None], raw_image, 0)"
   ]
  },
  {
   "cell_type": "code",
   "execution_count": 9,
   "metadata": {},
   "outputs": [],
   "source": [
    "def show_mask_process(mask, raw_img, **kwargs):\n",
    "    fig, axarr = plt.subplots(1, 3)\n",
    "    fig.set_figheight(5)\n",
    "    fig.set_figwidth(15)\n",
    "    fig.subplots_adjust(hspace=0.5)\n",
    "    cmap = kwargs.get(\"cmap\", cm.plasma)\n",
    "    experts_required = kwargs.get(\"experts\", EXPERT_CONCURRENCE_REQUIRED)\n",
    "    fig.suptitle(f\"Expert consensus mask (subject {SUBJECT_ID}, {experts_required}-expert consensus)\")\n",
    "    \n",
    "    axarr[0].imshow(mask, cmap=cmap)\n",
    "    axarr[0].set_title(\"Raw expert image\")\n",
    "    \n",
    "    axarr[1].imshow(convert_to_binary_mask(mask, **kwargs), cmap=cmap)\n",
    "    axarr[1].set_title(f'Binary {experts_required}-expert voting mask')\n",
    "    \n",
    "    axarr[2].imshow(mask_over_image(convert_to_binary_mask(mask, **kwargs), raw_img))\n",
    "    axarr[2].set_title(\"Region of interest based on mask\")\n",
    "    \n",
    "    plt.show()"
   ]
  },
  {
   "cell_type": "code",
   "execution_count": 10,
   "metadata": {},
   "outputs": [],
   "source": [
    "mask = img_as_float(io.imread(f\"assets/hard_exudate_masks/image{SUBJECT_ID:03}.png\"))\n",
    "binary_mask = convert_to_binary_mask(mask)\n",
    "masked_rgb = mask_over_image(binary_mask, raw_image)"
   ]
  },
  {
   "cell_type": "code",
   "execution_count": 11,
   "metadata": {},
   "outputs": [
    {
     "data": {
      "image/png": "[encoded data removed]",
      "text/plain": [
       "<matplotlib.figure.Figure at 0x7efc922e5c88>"
      ]
     },
     "metadata": {
      "needs_background": "light"
     },
     "output_type": "display_data"
    }
   ],
   "source": [
    "show_mask_process(mask, raw_image)"
   ]
  },
  {
   "cell_type": "markdown",
   "metadata": {},
   "source": [
    "### Filtering ROI for hard exudates based on hue"
   ]
  },
  {
   "cell_type": "markdown",
   "metadata": {},
   "source": [
    "Here, we're exploiting the fact that fatty exudates have a very prominent bright yellow colour, which can be easily narrowed down in HSV colour space."
   ]
  },
  {
   "cell_type": "code",
   "execution_count": 12,
   "metadata": {},
   "outputs": [],
   "source": [
    "def filter_for_hard_exudates(rgb_image, **kwargs):\n",
    "    masked_hsv = cv2.cvtColor(np.float32(rgb_image), cv2.COLOR_RGB2HSV)\n",
    "    lower_bound = kwargs.get(\"lower_bound\", np.uint8([[[0, 0, 0]]]))\n",
    "    upper_bound = kwargs.get(\"upper_bound\", np.uint8([[[24, 255, 225]]]))\n",
    "\n",
    "    structuring_element = kwargs.get(\"structuring_element\", morphology.disk)\n",
    "    structuring_element_size = kwargs.get(\"structuring_element_size\", 6)\n",
    "    \n",
    "    hsv_mask = cv2.inRange(masked_hsv, lower_bound, upper_bound)\n",
    "    hsv_mask = morphology.erosion(hsv_mask, structuring_element(structuring_element_size))\n",
    "    hsv_mask = morphology.closing(hsv_mask, structuring_element(structuring_element_size))\n",
    "    masked_hard_exudates = cv2.bitwise_or(masked_hsv, masked_hsv, mask = 255-hsv_mask)\n",
    "\n",
    "    hard_exudates = cv2.cvtColor(masked_hard_exudates, cv2.COLOR_HSV2RGB)\n",
    "    binary_hard_exudates = cv2.cvtColor(hard_exudates, cv2.COLOR_RGB2GRAY) > 0\n",
    "    return (hard_exudates, binary_hard_exudates)"
   ]
  },
  {
   "cell_type": "code",
   "execution_count": 13,
   "metadata": {},
   "outputs": [],
   "source": [
    "def plot_colour_process(raw_img, roi_img, hard_exudates, binary_hard_exudates, **kwargs):\n",
    "    fig, axarr = plt.subplots(1, 4)\n",
    "    fig.set_figheight(5)\n",
    "    fig.set_figwidth(15)\n",
    "    fig.subplots_adjust(hspace=0.5)\n",
    "    cmap = kwargs.get(\"cmap\", cm.plasma)\n",
    "    fig.suptitle(f\"Colour filtering hard exudates (subject {SUBJECT_ID})\")\n",
    "    \n",
    "    axarr[0].imshow(raw_img)\n",
    "    axarr[0].set_title(\"Source image\")\n",
    "\n",
    "    axarr[1].imshow(roi_img)\n",
    "    axarr[1].set_title(\"Region of Interest (RoI)\")\n",
    "    \n",
    "    axarr[2].imshow(hard_exudates, cmap=cmap)\n",
    "    axarr[2].set_title(\"Hard exudate extraction\")\n",
    "\n",
    "    axarr[3].imshow(binary_hard_exudates, cmap=cmap)\n",
    "    axarr[3].set_title(\"Binary hard exudates\")\n",
    "   \n",
    "    plt.show()"
   ]
  },
  {
   "cell_type": "code",
   "execution_count": 14,
   "metadata": {},
   "outputs": [],
   "source": [
    "hard_exudates, hard_exudates_bw = filter_for_hard_exudates(masked_rgb)"
   ]
  },
  {
   "cell_type": "code",
   "execution_count": 15,
   "metadata": {},
   "outputs": [
    {
     "data": {
      "image/png": "[encoded data removed]",
      "text/plain": [
       "<matplotlib.figure.Figure at 0x7efc919aa668>"
      ]
     },
     "metadata": {
      "needs_background": "light"
     },
     "output_type": "display_data"
    }
   ],
   "source": [
    "plot_colour_process(raw_image, masked_rgb, hard_exudates, hard_exudates_bw)"
   ]
  },
  {
   "cell_type": "markdown",
   "metadata": {},
   "source": [
    "### Point conversion"
   ]
  },
  {
   "cell_type": "markdown",
   "metadata": {},
   "source": [
    "This function converts the image to a point array, which is the requisite input for a GNG. Note that for reasons of processing ease, this will be flipped by 90 degrees – this is insignificant as GNG is rotation invariant."
   ]
  },
  {
   "cell_type": "code",
   "execution_count": 16,
   "metadata": {},
   "outputs": [],
   "source": [
    "def convert_bitmap_to_points(bitmap, included_point_fraction = 1.0):\n",
    "    df = []\n",
    "    for (x, y), val in np.ndenumerate(bitmap):\n",
    "        if val == True and random.random() <= included_point_fraction:\n",
    "            df.append([y, -x])\n",
    "    return df"
   ]
  },
  {
   "cell_type": "code",
   "execution_count": 17,
   "metadata": {},
   "outputs": [],
   "source": [
    "df = np.array(convert_bitmap_to_points(hard_exudates_bw, included_point_fraction=0.5))"
   ]
  },
  {
   "cell_type": "code",
   "execution_count": 18,
   "metadata": {},
   "outputs": [
    {
     "name": "stdout",
     "output_type": "stream",
     "text": [
      "Number of data points: 27,804\n"
     ]
    },
    {
     "data": {
      "image/png": "[encoded data removed]",
      "text/plain": [
       "<matplotlib.figure.Figure at 0x7efc917de0f0>"
      ]
     },
     "metadata": {
      "needs_background": "light"
     },
     "output_type": "display_data"
    }
   ],
   "source": [
    "scale_factor = 1\n",
    "data = scale_factor * np.array(df)\n",
    "print(\"Number of data points: {:,}\".format(len(data)))\n",
    "\n",
    "plt.figure(figsize=(15, 11.52))\n",
    "plt.xlim(0, hard_exudates.shape[0])\n",
    "plt.ylim(0, -hard_exudates.shape[1])\n",
    "plt.scatter(*(np.array(data).T) / scale_factor, s=0.01, alpha=1)\n",
    "plt.show()"
   ]
  },
  {
   "cell_type": "markdown",
   "metadata": {},
   "source": [
    "### Apply and train GNG"
   ]
  },
  {
   "cell_type": "markdown",
   "metadata": {},
   "source": [
    "#### Create helper functions for analysis of resulting GNG"
   ]
  },
  {
   "cell_type": "code",
   "execution_count": 19,
   "metadata": {},
   "outputs": [],
   "source": [
    "def extract_subgraphs(graph):\n",
    "    subgraphs = []\n",
    "    edges_per_node = copy.deepcopy(graph.edges_per_node)\n",
    "    \n",
    "    while edges_per_node:\n",
    "        nodes_left = list(edges_per_node.keys())\n",
    "        nodes_to_check = [nodes_left[0]]\n",
    "        subgraph = []\n",
    "        \n",
    "        while nodes_to_check:\n",
    "            node = nodes_to_check.pop()\n",
    "            subgraph.append(node)\n",
    "\n",
    "            if node in edges_per_node:\n",
    "                nodes_to_check.extend(edges_per_node[node])\n",
    "                del edges_per_node[node]\n",
    "            \n",
    "        subgraphs.append(subgraph)\n",
    "        \n",
    "    return subgraphs"
   ]
  },
  {
   "cell_type": "code",
   "execution_count": 20,
   "metadata": {},
   "outputs": [],
   "source": [
    "class MarginClamp:\n",
    "    def __init__(self, x_px = 1500, y_px = 1152, tolerance = 0.05, x_shift = 50, y_shift = 15):\n",
    "        self.x_px = x_px\n",
    "        self.y_px = y_px\n",
    "        self.tolerance = tolerance\n",
    "        self.x_shift = x_shift\n",
    "        self.y_shift = y_shift\n",
    "        \n",
    "    def clamp(self, x, y):\n",
    "        if x < self.tolerance * self.x_px:\n",
    "            x = self.tolerance * self.x_px\n",
    "        elif x > (1 - self.tolerance) * self.x_px - self.x_shift:\n",
    "            x = (1 - self.tolerance) * self.x_px - self.x_shift\n",
    "\n",
    "        if y < self.tolerance * self.y_px:\n",
    "            y = self.tolerance * self.y_px\n",
    "        elif y > (1 - self.tolerance) * self.y_px - self.y_shift:\n",
    "            y = (1 - self.tolerance) * self.y_px - self.y_shift\n",
    "        \n",
    "        return (x, y)"
   ]
  },
  {
   "cell_type": "code",
   "execution_count": 21,
   "metadata": {},
   "outputs": [],
   "source": [
    "def calculate_ideal_label_position(subgraph, x_px = 1500, y_px = 1152, preference = \"centroid\", label_length_offset=90, label_height_offset = 25):\n",
    "    \"\"\"\n",
    "    @param preference: preferred location – options are \"centroid\", \"middle\", \"corner\"\n",
    "    @type preference: str\n",
    "    \"\"\"\n",
    "    \n",
    "    assert preference in [\"centroid\", \"middle\", \"corner\"]\n",
    "    \n",
    "    clamp = MarginClamp(x_px = x_px, y_px = y_px, tolerance = 0.05, x_shift = label_length_offset, y_shift = label_height_offset)\n",
    "    \n",
    "    x_coords = [node.weight[0][0] for node in subgraph]\n",
    "    y_coords = [-1 * node.weight[0][1] for node in subgraph]\n",
    "    centroid = [np.mean(x_coords), np.mean(y_coords)]\n",
    "    \n",
    "    centroid_h = centroid[0] < x_px/2  # True => left quadrant, False => right quadrant\n",
    "    centroid_v = centroid[1] < y_px/2  # True => top quadrant, False => bottom quadrant\n",
    "    \n",
    "    xmin, xmax = (np.min(x_coords), np.max(x_coords))\n",
    "    ymin, ymax = (np.min(y_coords), np.max(y_coords))\n",
    "\n",
    "    if preference == \"centroid\":\n",
    "        x, y = (centroid[0], centroid[1])\n",
    "        \n",
    "    elif preference == \"middle\":\n",
    "        if centroid[1] < 0.25 * y_px or centroid[1] > 0.75 * y_px:\n",
    "            x = centroid[0] - label_length_offset/2\n",
    "            y = ymin - label_height_offset if centroid[1]/y_px < 0.5 else ymax + label_height_offset\n",
    "        else:\n",
    "            y = centroid[1]\n",
    "            x = xmin - label_length_offset if centroid[0]/x_px < 0.5 else xmax + label_length_offset\n",
    "        \n",
    "    else:  # => preference = \"corner\"\n",
    "        if centroid_h:\n",
    "            x = xmin - label_length_offset\n",
    "        else:\n",
    "            x = xmax\n",
    "        \n",
    "        if centroid_v:\n",
    "            y = ymin - label_height_offset\n",
    "        else:\n",
    "            y = ymax + label_height_offset\n",
    "            \n",
    "    return clamp.clamp(x, y)"
   ]
  },
  {
   "cell_type": "markdown",
   "metadata": {},
   "source": [
    "#### Running and training GNG"
   ]
  },
  {
   "cell_type": "markdown",
   "metadata": {},
   "source": [
    "First, we're running a single subject's image with 20 starting nodes, 500 maximum nodes and 100 iterations:"
   ]
  },
  {
   "cell_type": "code",
   "execution_count": 22,
   "metadata": {},
   "outputs": [],
   "source": [
    "environment.reproducible()\n",
    "\n",
    "gng = algorithms.GrowingNeuralGas(\n",
    "    n_inputs=2,\n",
    "    n_start_nodes=20,\n",
    "    shuffle_data=True,\n",
    "    verbose=False,\n",
    "    step=0.4,\n",
    "    neighbour_step=0.005,\n",
    "    max_edge_age=10,\n",
    "    max_nodes=500,\n",
    "    n_iter_before_neuron_added=3,\n",
    "    after_split_error_decay_rate=0.5,\n",
    "    error_decay_rate=0.995,\n",
    "    min_distance_for_update=0.01)"
   ]
  },
  {
   "cell_type": "code",
   "execution_count": null,
   "metadata": {
    "scrolled": true
   },
   "outputs": [
    {
     "data": {
      "application/vnd.jupyter.widget-view+json": {
       "model_id": "ec6d9428a2ad4d088b5812d4c62277eb",
       "version_major": 2,
       "version_minor": 0
      },
      "text/plain": [
       "HBox(children=(IntProgress(value=0), HTML(value='')))"
      ]
     },
     "metadata": {},
     "output_type": "display_data"
    }
   ],
   "source": [
    "for i in tqdm(range(100)):\n",
    "    gng.train(data, summary = 'inline', epochs = 1)"
   ]
  },
  {
   "cell_type": "code",
   "execution_count": null,
   "metadata": {},
   "outputs": [],
   "source": [
    "fig = plt.figure(figsize=(15, 11.52))\n",
    "ax = fig.add_subplot(111)\n",
    "\n",
    "for (n1, n2) in gng.graph.edges:\n",
    "    point_coordinates = np.concatenate(((n1.weight[0]*[1, -1]).round(), (n2.weight[0]*[1, -1]).round())).reshape(2, 2)\n",
    "    plt.plot(point_coordinates.T[0], point_coordinates.T[1], linewidth = 0.5, color = \"white\", alpha = 0.5)\n",
    "\n",
    "ax.imshow(hard_exudates)\n",
    "\n",
    "ax.annotate(f\"SUBJECT: {SUBJECT_ID:03}\", xy=(50, 50), color=\"white\")\n",
    "ax.annotate(f\"Lesion count: {len(extract_subgraphs(gng.graph))}\", xy=(50, 90), color=\"white\")\n",
    "ax.annotate(f\"Epochs: {gng.last_epoch}\", xy=(50, 110), color=\"white\")\n",
    "ax.annotate(f\"Final neuron count: {gng.graph.n_nodes}\", xy=(50, 130), color=\"white\")\n",
    "\n",
    "for idx, val in enumerate(extract_subgraphs(gng.graph)):\n",
    "    label_pos = calculate_ideal_label_position(val, preference=\"middle\")\n",
    "    ax.annotate(f\"Lesion {idx + 1}\", xy=label_pos, color=\"white\")\n",
    "\n",
    "plt.show()"
   ]
  },
  {
   "cell_type": "markdown",
   "metadata": {},
   "source": [
    "### Calculating lesion area"
   ]
  },
  {
   "cell_type": "markdown",
   "metadata": {},
   "source": [
    "The total lesion area allows a quantification of hard exudate severity. We can obtain this by calculating the convex hull area of the nodes in the pruned GNG graph:"
   ]
  },
  {
   "cell_type": "code",
   "execution_count": null,
   "metadata": {},
   "outputs": [],
   "source": [
    "def single_lesion_area(*nodes):\n",
    "    points = np.array([[node.weight[0][0], -node.weight[0][1]] for node in nodes])\n",
    "    return ConvexHull(points).volume"
   ]
  },
  {
   "cell_type": "code",
   "execution_count": null,
   "metadata": {},
   "outputs": [],
   "source": [
    "def total_lesion_area(graph):\n",
    "    lesions = extract_subgraphs(graph)\n",
    "    \n",
    "    area = 0\n",
    "    \n",
    "    for lesion in lesions:\n",
    "        try:\n",
    "            area += single_lesion_area(*lesion)\n",
    "        except Exception:\n",
    "            pass\n",
    "        \n",
    "    return area"
   ]
  },
  {
   "cell_type": "code",
   "execution_count": null,
   "metadata": {},
   "outputs": [],
   "source": [
    "print(f\"The total lesion percentage is {total_lesion_area(gng.graph)/(1152*1500)*100:.2f}%.\")"
   ]
  },
  {
   "cell_type": "markdown",
   "metadata": {},
   "source": [
    "## Comparing all subjects' lesion areas"
   ]
  },
  {
   "cell_type": "markdown",
   "metadata": {},
   "source": [
    "In the following, we will be iterating over all 89 fundoscopy images, and calculate the relative area covered by hard exudates. The relative area is calculated with reference to the entire image frame of 1152x1500 = 1,728,000 pixels (this is computationally more efficient than taking it as a fraction of the circular image it encloses). In addition, we'll also plot a heatmap of "
   ]
  },
  {
   "cell_type": "code",
   "execution_count": null,
   "metadata": {},
   "outputs": [],
   "source": [
    "def get_hard_exudate_image_and_mask(subject_id, **kwargs):\n",
    "    raw_image = img_as_float(io.imread(f\"assets/fundoscopies/image{subject_id:03}.png\"))\n",
    "    binary_mask = convert_to_binary_mask(img_as_float(io.imread(f\"assets/hard_exudate_masks/image{subject_id:03}.png\")))\n",
    "    masked_rgb = mask_over_image(binary_mask, raw_image)\n",
    "    \n",
    "    return filter_for_hard_exudates(masked_rgb)"
   ]
  },
  {
   "cell_type": "code",
   "execution_count": null,
   "metadata": {},
   "outputs": [],
   "source": [
    "def generate_points(hard_exudates_bw, **kwargs):\n",
    "    return np.array(convert_bitmap_to_points(hard_exudates_bw, kwargs.get(\"included_point_fraction\", 0.5)))"
   ]
  },
  {
   "cell_type": "code",
   "execution_count": null,
   "metadata": {},
   "outputs": [],
   "source": [
    "hard_exudate_stats = []"
   ]
  },
  {
   "cell_type": "code",
   "execution_count": null,
   "metadata": {
    "code_folding": []
   },
   "outputs": [],
   "source": [
    "def plot_all_images(**kwargs):\n",
    "    global hard_exudate_stats\n",
    "    hard_exudate_stats = []\n",
    "    row_count = kwargs.get(\"rows\", 10)\n",
    "    col_count = kwargs.get(\"cols\", 9)\n",
    "    sub_count = kwargs.get(\"first_n\", 88)\n",
    "    iter_count = kwargs.get(\"train_epochs\", 50)\n",
    "    max_neuron_count = kwargs.get(\"max_nodes\", 500)\n",
    "\n",
    "    fig, axarr = plt.subplots(row_count, col_count)\n",
    "    fig.set_figheight(row_count * 2)\n",
    "    fig.set_figwidth(col_count * 2)\n",
    "    fig.subplots_adjust(hspace=0.5)\n",
    "    cmap = kwargs.get(\"cmap\", cm.plasma)\n",
    "    fig.suptitle(\n",
    "        f\"Hard exudate mapping of {sub_count + 1} subjects from DIABRETDB1\\n({iter_count} iterations, {max_neuron_count} neurons)\"\n",
    "    )\n",
    "\n",
    "    for _ in tqdm(range(row_count * col_count)):\n",
    "        row_id = math.floor(_ / col_count)\n",
    "        col_id = _ % (row_count - 1)\n",
    "        subject_id = _ + 1\n",
    "\n",
    "        if int(_) <= kwargs.get(\"first_n\", 88):\n",
    "            img, bwimg = get_hard_exudate_image_and_mask(subject_id=subject_id)\n",
    "            data = generate_points(bwimg, **kwargs)\n",
    "            if len(data) > 3:\n",
    "\n",
    "                environment.reproducible()\n",
    "\n",
    "                gng = algorithms.GrowingNeuralGas(\n",
    "                    n_inputs=2,\n",
    "                    n_start_nodes=kwargs.get(\"start_nodes\", 50),\n",
    "                    shuffle_data=True,\n",
    "                    verbose=False,\n",
    "                    step=0.4,\n",
    "                    neighbour_step=0.005,\n",
    "                    max_edge_age=kwargs.get(\"max_edge_age\", 4),\n",
    "                    max_nodes=kwargs.get(\"max_nodes\", 500),\n",
    "                    n_iter_before_neuron_added=kwargs.get(\n",
    "                        \"n_iter_before_neuron_added\", 3),\n",
    "                    after_split_error_decay_rate=0.5,\n",
    "                    error_decay_rate=0.995,\n",
    "                    min_distance_for_update=0.01)\n",
    "\n",
    "                gng.train(\n",
    "                    data,\n",
    "                    summary='inline',\n",
    "                    epochs=kwargs.get(\"train_epochs\", 50))\n",
    "                axarr[row_id, col_id].axis('off')\n",
    "                axarr[row_id, col_id].imshow(img)\n",
    "\n",
    "                lesion_count = len(extract_subgraphs(gng.graph))\n",
    "                lesion_area = total_lesion_area(\n",
    "                    gng.graph) / (1152 * 1500) * 100\n",
    "\n",
    "                hard_exudate_stats.append({\n",
    "                    \"subject\": _,\n",
    "                    \"lesion_count\": lesion_count,\n",
    "                    \"lesion_area\": lesion_area,\n",
    "                    \"neurons\": gng.graph.n_nodes\n",
    "                })\n",
    "\n",
    "                for (n1, n2) in gng.graph.edges:\n",
    "                    point_coordinates = np.concatenate(\n",
    "                        ((n1.weight[0] * [1, -1]).round(),\n",
    "                         (n2.weight[0] * [1, -1]).round())).reshape(2, 2)\n",
    "                    axarr[row_id, col_id].plot(\n",
    "                        point_coordinates.T[0],\n",
    "                        point_coordinates.T[1],\n",
    "                        linewidth=0.5,\n",
    "                        color=\"white\",\n",
    "                        alpha=0.3)\n",
    "\n",
    "                axarr[row_id, col_id].set_title(\n",
    "                    f\"Subject {subject_id}: \\n {lesion_count} @ {lesion_area:.3f}%\",\n",
    "                    fontsize=8,\n",
    "                    color='black')\n",
    "\n",
    "            else:\n",
    "                axarr[row_id, col_id].axis('off')\n",
    "                axarr[row_id, col_id].imshow(img)\n",
    "                axarr[row_id, col_id].set_title(\n",
    "                    f\"Subject {subject_id}: \\n no lesions\",\n",
    "                    fontsize=8,\n",
    "                    color='green')\n",
    "                hard_exudate_stats.append({\n",
    "                    \"subject\": _,\n",
    "                    \"lesion_count\": 0,\n",
    "                    \"lesion_area\": 0.0,\n",
    "                    \"neurons\": 0\n",
    "                })\n",
    "\n",
    "        else:\n",
    "            axarr[row_id, col_id].axis('off')\n",
    "\n",
    "        stat_table = pd.DataFrame.from_records(hard_exudate_stats)\n",
    "        axarr[row_count - 1, col_count - 1].set_title(\n",
    "            \"Lesion count vs area\", fontsize=8, color=\"black\")\n",
    "\n",
    "    y = stat_table[\"lesion_area\"]\n",
    "    x = stat_table[\"lesion_count\"]\n",
    "    nbins = kwargs.get(\"cva_bins\", 300)\n",
    "\n",
    "    k = kde.gaussian_kde([x, y])\n",
    "    xi, yi = np.mgrid[x.min():x.max(\n",
    "    ):nbins * 1j, y.min():y.max():nbins * 1j]\n",
    "    zi = k(np.vstack([xi.flatten(), yi.flatten()]))\n",
    "\n",
    "    axarr[row_count - 1, col_count - 1].pcolormesh(xi, yi,\n",
    "                                                   zi.reshape(xi.shape))\n",
    "\n",
    "    if \"json_output\" in kwargs:\n",
    "        with open(kwargs.get(\"json_output\"), 'w') as f:\n",
    "            json.dump(hard_exudate_stats, f)\n",
    "\n",
    "    if \"csv_output\" in kwargs:\n",
    "        with open(kwargs.get(\"csv_output\"), \"w\") as f:\n",
    "            stat_table.to_csv(f)\n",
    "\n",
    "    if \"output\" in kwargs:\n",
    "        plt.savefig(kwargs.get(\"output\"), dpi=kwargs.get(\"output_dpi\", 150))\n",
    "\n",
    "    plt.show()"
   ]
  },
  {
   "cell_type": "code",
   "execution_count": null,
   "metadata": {},
   "outputs": [],
   "source": [
    "# Warning - running this can take considerable time!\n",
    "plot_all_images(output=\"hard_exudates.png\", csv_output=\"hard_exudates.csv\", train_epochs=100, max_edge_age=8)"
   ]
  },
  {
   "cell_type": "markdown",
   "metadata": {},
   "source": [
    "![](hard_exudates.png)"
   ]
  },
  {
   "cell_type": "markdown",
   "metadata": {},
   "source": [
    "# References\n",
    "\n",
    "[<a id=\"cit-fritzke1995growing\" href=\"#call-fritzke1995growing\">1</a>] B. Fritzke, ``_A growing neural gas network learns topologies_'', Advances in neural information processing systems,  1995.\n",
    "\n",
    "[<a id=\"cit-bunce2006leading\" href=\"#call-bunce2006leading\">2</a>] Bunce Catey and Wormald Richard, ``_Leading causes of certification for blindness and partial sight in England \\& Wales_'', BMC public health, vol. 6, number 1, pp. 58,  2006.\n",
    "\n",
    "[<a id=\"cit-fong2004retinopathy\" href=\"#call-fong2004retinopathy\">3</a>] Fong Donald S, Aiello Lloyd, Gardner Thomas W <em>et al.</em>, ``_Retinopathy in diabetes_'', Diabetes care, vol. 27, number suppl 1, pp. s84--s87,  2004.\n",
    "\n",
    "[<a id=\"cit-kauppi2007diaretdb1\" href=\"#call-kauppi2007diaretdb1\">4</a>] Kauppi Tomi, Kalesnykiene Valentina, Kamarainen Joni-Kristian <em>et al.</em>, ``_DIARETDB1-standard diabetic retino-pathy database_'', IMAGERET---Optimal Detection and Decision-Support Diagnosis of Diabetic Retinopathy, vol. , number , pp. ,  2007.\n",
    "\n"
   ]
  }
 ],
 "metadata": {
  "celltoolbar": "Initialization Cell",
  "kernelspec": {
   "display_name": "Python 3",
   "language": "python",
   "name": "python3"
  },
  "language_info": {
   "codemirror_mode": {
    "name": "ipython",
    "version": 3
   },
   "file_extension": ".py",
   "mimetype": "text/x-python",
   "name": "python",
   "nbconvert_exporter": "python",
   "pygments_lexer": "ipython3",
   "version": "3.6.7"
  },
  "latex_envs": {
   "LaTeX_envs_menu_present": true,
   "autoclose": false,
   "autocomplete": false,
   "bibliofile": "biblio.bib",
   "cite_by": "number",
   "current_citInitial": 1,
   "eqLabelWithNumbers": true,
   "eqNumInitial": 1,
   "hotkeys": {
    "equation": "Ctrl-E",
    "itemize": "Ctrl-I"
   },
   "labels_anchors": false,
   "latex_user_defs": false,
   "report_style_numbering": false,
   "user_envs_cfg": false
  },
  "toc": {
   "base_numbering": 1,
   "nav_menu": {},
   "number_sections": true,
   "sideBar": false,
   "skip_h1_title": true,
   "title_cell": "Table of Contents",
   "title_sidebar": "Contents",
   "toc_cell": true,
   "toc_position": {},
   "toc_section_display": false,
   "toc_window_display": false
  },
  "varInspector": {
   "cols": {
    "lenName": 16,
    "lenType": 16,
    "lenVar": 40
   },
   "kernels_config": {
    "python": {
     "delete_cmd_postfix": "",
     "delete_cmd_prefix": "del ",
     "library": "var_list.py",
     "varRefreshCmd": "print(var_dic_list())"
    },
    "r": {
     "delete_cmd_postfix": ") ",
     "delete_cmd_prefix": "rm(",
     "library": "var_list.r",
     "varRefreshCmd": "cat(var_dic_list()) "
    }
   },
   "types_to_exclude": [
    "module",
    "function",
    "builtin_function_or_method",
    "instance",
    "_Feature"
   ],
   "window_display": false
  },
  "widgets": {
   "application/vnd.jupyter.widget-state+json": {
    "state": {
     "00518c0c147842f5a006c76e6dac565a": {
      "model_module": "@jupyter-widgets/base",
      "model_module_version": "1.1.0",
      "model_name": "LayoutModel",
      "state": {}
     },
     "00bb70333765441bbcd4ca067c744ac1": {
      "model_module": "@jupyter-widgets/controls",
      "model_module_version": "1.4.0",
      "model_name": "DescriptionStyleModel",
      "state": {
       "description_width": ""
      }
     },
     "015fb3bd6dfb4b89b36a5d8fa621d8e6": {
      "model_module": "@jupyter-widgets/base",
      "model_module_version": "1.1.0",
      "model_name": "LayoutModel",
      "state": {}
     },
     "019c92a2556c4ea4adc5b807f427f583": {
      "model_module": "@jupyter-widgets/base",
      "model_module_version": "1.1.0",
      "model_name": "LayoutModel",
      "state": {}
     },
     "027adda42c304a79a0c1f61b7c32dda8": {
      "model_module": "@jupyter-widgets/base",
      "model_module_version": "1.1.0",
      "model_name": "LayoutModel",
      "state": {}
     },
     "02d7469796ed4348b5005ca26f3bf6e6": {
      "model_module": "@jupyter-widgets/base",
      "model_module_version": "1.1.0",
      "model_name": "LayoutModel",
      "state": {}
     },
     "0303297ce1dd48c2bf42ce14d16149c7": {
      "model_module": "@jupyter-widgets/controls",
      "model_module_version": "1.4.0",
      "model_name": "DescriptionStyleModel",
      "state": {
       "description_width": ""
      }
     },
     "034b5b2f80a74be5ab25f5183eb677ff": {
      "model_module": "@jupyter-widgets/controls",
      "model_module_version": "1.4.0",
      "model_name": "HTMLModel",
      "state": {
       "layout": "IPY_MODEL_14d937ac8975463baf52f1860c2ef82f",
       "style": "IPY_MODEL_fe9209585e9b4a21bd87c71f9952be37",
       "value": "100% 90/90 [08:27&lt;00:00,  5.64s/it]"
      }
     },
     "035f4d0233a642f797ab26c2e24abba0": {
      "model_module": "@jupyter-widgets/controls",
      "model_module_version": "1.4.0",
      "model_name": "ProgressStyleModel",
      "state": {
       "description_width": ""
      }
     },
     "0433ac9d1a5e40b890f63485ac251d1c": {
      "model_module": "@jupyter-widgets/controls",
      "model_module_version": "1.4.0",
      "model_name": "IntProgressModel",
      "state": {
       "bar_style": "danger",
       "layout": "IPY_MODEL_18d93412afc34729925c9496fa5bf56b",
       "style": "IPY_MODEL_9856a0f6e4f041a5a7b83e4c447670d9"
      }
     },
     "050535794586480bb38ed602422a576a": {
      "model_module": "@jupyter-widgets/controls",
      "model_module_version": "1.4.0",
      "model_name": "HBoxModel",
      "state": {
       "children": [
        "IPY_MODEL_ac875de57e5047649cbe2dc50473c9d5",
        "IPY_MODEL_4b9c8bfb425c4fd1a852da87eaada62e"
       ],
       "layout": "IPY_MODEL_3dd19c9edd674bf0a8c42b7ade38bdde"
      }
     },
     "0510cdcd983346e6b02a04d68a8a2088": {
      "model_module": "@jupyter-widgets/base",
      "model_module_version": "1.1.0",
      "model_name": "LayoutModel",
      "state": {}
     },
     "058c3c1e035d4b52a3ee4175394ba337": {
      "model_module": "@jupyter-widgets/base",
      "model_module_version": "1.1.0",
      "model_name": "LayoutModel",
      "state": {}
     },
     "0730ec53f64f4be99d7759ab6f71d419": {
      "model_module": "@jupyter-widgets/controls",
      "model_module_version": "1.4.0",
      "model_name": "DescriptionStyleModel",
      "state": {
       "description_width": ""
      }
     },
     "0755420340cb4b588f03fc0f4a3fc65a": {
      "model_module": "@jupyter-widgets/base",
      "model_module_version": "1.1.0",
      "model_name": "LayoutModel",
      "state": {}
     },
     "08fab5952a154a40a0fb0abe83454f92": {
      "model_module": "@jupyter-widgets/controls",
      "model_module_version": "1.4.0",
      "model_name": "IntProgressModel",
      "state": {
       "bar_style": "danger",
       "layout": "IPY_MODEL_1431a9294b464b68a790214a3cc3e240",
       "max": 10,
       "style": "IPY_MODEL_c6754d09255743fbaaed124e7055b5ad"
      }
     },
     "0925e4c625154b2abe95f696a1fdbcba": {
      "model_module": "@jupyter-widgets/controls",
      "model_module_version": "1.4.0",
      "model_name": "ProgressStyleModel",
      "state": {
       "description_width": ""
      }
     },
     "09a99109fd994737ba25b311aaaa3314": {
      "model_module": "@jupyter-widgets/controls",
      "model_module_version": "1.4.0",
      "model_name": "IntProgressModel",
      "state": {
       "bar_style": "success",
       "layout": "IPY_MODEL_695c123a6c9846448a6a2329bfe8b819",
       "max": 10,
       "style": "IPY_MODEL_19a8cf0e3a93411089a23b35c77d457a",
       "value": 10
      }
     },
     "09eb006953344082b8a981531bf33789": {
      "model_module": "@jupyter-widgets/controls",
      "model_module_version": "1.4.0",
      "model_name": "HBoxModel",
      "state": {
       "children": [
        "IPY_MODEL_09a99109fd994737ba25b311aaaa3314",
        "IPY_MODEL_2a8ca92234524e3b86309150905635d1"
       ],
       "layout": "IPY_MODEL_30d6864761cb429d95859b2f523d027f"
      }
     },
     "09f73f4a467e4839a42064c1e5b57466": {
      "model_module": "@jupyter-widgets/base",
      "model_module_version": "1.1.0",
      "model_name": "LayoutModel",
      "state": {}
     },
     "0aae941cebf645b295c001a23c3fc161": {
      "model_module": "@jupyter-widgets/base",
      "model_module_version": "1.1.0",
      "model_name": "LayoutModel",
      "state": {}
     },
     "0abc135fc1c3483281cacdd750204e64": {
      "model_module": "@jupyter-widgets/controls",
      "model_module_version": "1.4.0",
      "model_name": "IntProgressModel",
      "state": {
       "bar_style": "danger",
       "layout": "IPY_MODEL_027adda42c304a79a0c1f61b7c32dda8",
       "style": "IPY_MODEL_2e48129c00f0428fb4a6d5800244cc07"
      }
     },
     "0af6a8765044498092854f38ed428a5d": {
      "model_module": "@jupyter-widgets/base",
      "model_module_version": "1.1.0",
      "model_name": "LayoutModel",
      "state": {}
     },
     "0b92273d260f4816b5b6c81791ed3878": {
      "model_module": "@jupyter-widgets/controls",
      "model_module_version": "1.4.0",
      "model_name": "HBoxModel",
      "state": {
       "children": [
        "IPY_MODEL_0e676ef5da6f4af1926523806ae6dd2e",
        "IPY_MODEL_b9e1a6247956495d97816f872caf479c"
       ],
       "layout": "IPY_MODEL_45fff1bb52db488a9e51e5b86868a6ae"
      }
     },
     "0bd4513d13694aedbec868b8e360625e": {
      "model_module": "@jupyter-widgets/controls",
      "model_module_version": "1.4.0",
      "model_name": "ProgressStyleModel",
      "state": {
       "description_width": ""
      }
     },
     "0c9bf045ebcb46b59453d7b52b60dade": {
      "model_module": "@jupyter-widgets/controls",
      "model_module_version": "1.4.0",
      "model_name": "HBoxModel",
      "state": {
       "children": [
        "IPY_MODEL_7de628796a044896af9e94eb6529e0eb",
        "IPY_MODEL_de8e6c2fa3c040fb99a54c63f406f549"
       ],
       "layout": "IPY_MODEL_2ae6faf9b449470187a78655c9251d2a"
      }
     },
     "0d4b082f3e75457cbe69542d73744af5": {
      "model_module": "@jupyter-widgets/controls",
      "model_module_version": "1.4.0",
      "model_name": "HBoxModel",
      "state": {
       "children": [
        "IPY_MODEL_ad753ca0d3ab4b2fb16d01b58816586f",
        "IPY_MODEL_98f7ba06cc9b48f28b2e455ae41c2636"
       ],
       "layout": "IPY_MODEL_fb2de3ebf4c144b08e2ab8945b1b8e5f"
      }
     },
     "0e676ef5da6f4af1926523806ae6dd2e": {
      "model_module": "@jupyter-widgets/controls",
      "model_module_version": "1.4.0",
      "model_name": "IntProgressModel",
      "state": {
       "bar_style": "success",
       "layout": "IPY_MODEL_56b685d612b54613bb915a720be48501",
       "max": 90,
       "style": "IPY_MODEL_803e0abfdcf44b4c82b6430db525d35f",
       "value": 90
      }
     },
     "0e9d7e781f0c4bc0a16e2d9a8286fb59": {
      "model_module": "@jupyter-widgets/controls",
      "model_module_version": "1.4.0",
      "model_name": "HBoxModel",
      "state": {
       "children": [
        "IPY_MODEL_b71180b70dac49b1ac479f89f65e44a4",
        "IPY_MODEL_e0a26e285aa1437397fd0d4002b94cc5"
       ],
       "layout": "IPY_MODEL_a817519a23df423ba2f9d9f7549c4a18"
      }
     },
     "0f78f21c722144189749f994a8395491": {
      "model_module": "@jupyter-widgets/controls",
      "model_module_version": "1.4.0",
      "model_name": "IntProgressModel",
      "state": {
       "bar_style": "success",
       "layout": "IPY_MODEL_ced51f4e76b24fec84bf66f3cb101463",
       "max": 88,
       "style": "IPY_MODEL_612348b659584a878c8f2fbe7b40d7b4",
       "value": 88
      }
     },
     "111bb75fc3534994b239c64d575f0d84": {
      "model_module": "@jupyter-widgets/controls",
      "model_module_version": "1.4.0",
      "model_name": "IntProgressModel",
      "state": {
       "bar_style": "danger",
       "layout": "IPY_MODEL_597401d973b34b9886e8ef9f6b189ca4",
       "max": 28,
       "style": "IPY_MODEL_17442701588a4b98b950b610d2de4e0c"
      }
     },
     "1431a9294b464b68a790214a3cc3e240": {
      "model_module": "@jupyter-widgets/base",
      "model_module_version": "1.1.0",
      "model_name": "LayoutModel",
      "state": {}
     },
     "145e9df01826441a9da7dc4b18c0ff65": {
      "model_module": "@jupyter-widgets/controls",
      "model_module_version": "1.4.0",
      "model_name": "ProgressStyleModel",
      "state": {
       "description_width": ""
      }
     },
     "14d937ac8975463baf52f1860c2ef82f": {
      "model_module": "@jupyter-widgets/base",
      "model_module_version": "1.1.0",
      "model_name": "LayoutModel",
      "state": {}
     },
     "15d454b2144545f982fcdac5169ca8b7": {
      "model_module": "@jupyter-widgets/controls",
      "model_module_version": "1.4.0",
      "model_name": "HBoxModel",
      "state": {
       "children": [
        "IPY_MODEL_473d2836b04042b3b9d045d60ab5190f",
        "IPY_MODEL_5c0767c8f21e445a86ebb553a747eff3"
       ],
       "layout": "IPY_MODEL_a57579aaef93477e8676acade42f593f"
      }
     },
     "17112025f4fe4000bdeeed11c20e6d04": {
      "model_module": "@jupyter-widgets/controls",
      "model_module_version": "1.4.0",
      "model_name": "IntProgressModel",
      "state": {
       "bar_style": "success",
       "layout": "IPY_MODEL_9fba272e5bf3437a9474f7fbb5f0591e",
       "max": 25,
       "style": "IPY_MODEL_9a13734ceaaa4b3b9a4668020dd4d3c7",
       "value": 25
      }
     },
     "17442701588a4b98b950b610d2de4e0c": {
      "model_module": "@jupyter-widgets/controls",
      "model_module_version": "1.4.0",
      "model_name": "ProgressStyleModel",
      "state": {
       "description_width": ""
      }
     },
     "1781494ed02740ca869bd1e064eb99bb": {
      "model_module": "@jupyter-widgets/controls",
      "model_module_version": "1.4.0",
      "model_name": "HTMLModel",
      "state": {
       "layout": "IPY_MODEL_4be104624cd44e0cbd2312834e2b652d",
       "style": "IPY_MODEL_8b406344a796486d9ff7e47831ee60b3",
       "value": "  0% 0/9 [00:00&lt;?, ?it/s]"
      }
     },
     "189d783df2944b29a352b86674403673": {
      "model_module": "@jupyter-widgets/controls",
      "model_module_version": "1.4.0",
      "model_name": "DescriptionStyleModel",
      "state": {
       "description_width": ""
      }
     },
     "18aa8ef20501425499b18777348e6e3e": {
      "model_module": "@jupyter-widgets/controls",
      "model_module_version": "1.4.0",
      "model_name": "DescriptionStyleModel",
      "state": {
       "description_width": ""
      }
     },
     "18cad668f16c4d01a6527bbb37df2980": {
      "model_module": "@jupyter-widgets/controls",
      "model_module_version": "1.4.0",
      "model_name": "HTMLModel",
      "state": {
       "layout": "IPY_MODEL_9ace522cbb7d4303926bb85d64a3cca7",
       "style": "IPY_MODEL_71d7114256f54b1a89789066e32b5eaf",
       "value": "100% 10/10 [00:51&lt;00:00,  5.15s/it]"
      }
     },
     "18d93412afc34729925c9496fa5bf56b": {
      "model_module": "@jupyter-widgets/base",
      "model_module_version": "1.1.0",
      "model_name": "LayoutModel",
      "state": {}
     },
     "19a8cf0e3a93411089a23b35c77d457a": {
      "model_module": "@jupyter-widgets/controls",
      "model_module_version": "1.4.0",
      "model_name": "ProgressStyleModel",
      "state": {
       "description_width": ""
      }
     },
     "1a755127dae1468b91c16a0093d315cb": {
      "model_module": "@jupyter-widgets/base",
      "model_module_version": "1.1.0",
      "model_name": "LayoutModel",
      "state": {}
     },
     "1ab0ac2d2b1b419ba4473189bd8bcb0f": {
      "model_module": "@jupyter-widgets/base",
      "model_module_version": "1.1.0",
      "model_name": "LayoutModel",
      "state": {}
     },
     "1bc2c1a1aa454c4590b95b3059498f21": {
      "model_module": "@jupyter-widgets/base",
      "model_module_version": "1.1.0",
      "model_name": "LayoutModel",
      "state": {}
     },
     "1bda065d12db43c884f7938839e169fc": {
      "model_module": "@jupyter-widgets/base",
      "model_module_version": "1.1.0",
      "model_name": "LayoutModel",
      "state": {}
     },
     "1c3c9b110e544016b44de79129dd6ffc": {
      "model_module": "@jupyter-widgets/controls",
      "model_module_version": "1.4.0",
      "model_name": "IntProgressModel",
      "state": {
       "bar_style": "danger",
       "layout": "IPY_MODEL_8db922e7c07443bc8aba008ce0da946a",
       "max": 90,
       "style": "IPY_MODEL_fe99ea4107cf4a46914a447d8770b58c"
      }
     },
     "1c9491a21b5f4cd5a0800724f1a78825": {
      "model_module": "@jupyter-widgets/controls",
      "model_module_version": "1.4.0",
      "model_name": "DescriptionStyleModel",
      "state": {
       "description_width": ""
      }
     },
     "1ca0f884f0534d60b59ec7192a810cbe": {
      "model_module": "@jupyter-widgets/base",
      "model_module_version": "1.1.0",
      "model_name": "LayoutModel",
      "state": {}
     },
     "1d3a98fd72d74f8a9a579f8fc23ea6ae": {
      "model_module": "@jupyter-widgets/controls",
      "model_module_version": "1.4.0",
      "model_name": "DescriptionStyleModel",
      "state": {
       "description_width": ""
      }
     },
     "1e009d8fb86445c5a21d62e5ae9df835": {
      "model_module": "@jupyter-widgets/controls",
      "model_module_version": "1.4.0",
      "model_name": "DescriptionStyleModel",
      "state": {
       "description_width": ""
      }
     },
     "1ed2ed15dc754d21b7a49f0c81e76046": {
      "model_module": "@jupyter-widgets/controls",
      "model_module_version": "1.4.0",
      "model_name": "HTMLModel",
      "state": {
       "layout": "IPY_MODEL_1ca0f884f0534d60b59ec7192a810cbe",
       "style": "IPY_MODEL_189d783df2944b29a352b86674403673",
       "value": "100% 100/100 [14:12&lt;00:00,  8.56s/it]"
      }
     },
     "1f000f15cc6f41e082081f74dea1f555": {
      "model_module": "@jupyter-widgets/base",
      "model_module_version": "1.1.0",
      "model_name": "LayoutModel",
      "state": {}
     },
     "1f1ff649f3604cfeaecefb2cb0ed41c4": {
      "model_module": "@jupyter-widgets/controls",
      "model_module_version": "1.4.0",
      "model_name": "HBoxModel",
      "state": {
       "children": [
        "IPY_MODEL_90f483bac0204ef3bef71059f8431544",
        "IPY_MODEL_8efd3c760401458b94d42e5c7ddb276d"
       ],
       "layout": "IPY_MODEL_d086716c9a574e778ffea50e2535354c"
      }
     },
     "1f93bb88e9bc43a08316a7da921412a3": {
      "model_module": "@jupyter-widgets/controls",
      "model_module_version": "1.4.0",
      "model_name": "HBoxModel",
      "state": {
       "children": [
        "IPY_MODEL_d1bdf1fc287a45e8970002dd9acebdf8",
        "IPY_MODEL_647ee78851bb4422971b49ea656dd6f3"
       ],
       "layout": "IPY_MODEL_a93ecfb2df924818921dc833ad416535"
      }
     },
     "20952d855a014ab1a824ed09f0a67027": {
      "model_module": "@jupyter-widgets/base",
      "model_module_version": "1.1.0",
      "model_name": "LayoutModel",
      "state": {}
     },
     "20bbe4e5dec849d58499f55f24582fc1": {
      "model_module": "@jupyter-widgets/base",
      "model_module_version": "1.1.0",
      "model_name": "LayoutModel",
      "state": {}
     },
     "222f429c25c0496bb009acb1d0b1cf00": {
      "model_module": "@jupyter-widgets/base",
      "model_module_version": "1.1.0",
      "model_name": "LayoutModel",
      "state": {}
     },
     "22e2504ba9054f618f57cee5f2a09a0d": {
      "model_module": "@jupyter-widgets/controls",
      "model_module_version": "1.4.0",
      "model_name": "HBoxModel",
      "state": {
       "children": [
        "IPY_MODEL_af5025986ad84838bd55b263951fdf08",
        "IPY_MODEL_c4806627ddae446b972a697404a873b2"
       ],
       "layout": "IPY_MODEL_5cdcf66a594d45208df9448f4609d0e8"
      }
     },
     "22f93b3278374f5dacacf7dc14949088": {
      "model_module": "@jupyter-widgets/controls",
      "model_module_version": "1.4.0",
      "model_name": "IntProgressModel",
      "state": {
       "bar_style": "danger",
       "layout": "IPY_MODEL_fb01204cb4f24aec8a48c30c735b86fe",
       "max": 9,
       "style": "IPY_MODEL_145e9df01826441a9da7dc4b18c0ff65"
      }
     },
     "23f841d3843f479aba5ed9264c78c0f3": {
      "model_module": "@jupyter-widgets/base",
      "model_module_version": "1.1.0",
      "model_name": "LayoutModel",
      "state": {}
     },
     "24ed3d759d5d41f4a093343dc0303ca2": {
      "model_module": "@jupyter-widgets/controls",
      "model_module_version": "1.4.0",
      "model_name": "DescriptionStyleModel",
      "state": {
       "description_width": ""
      }
     },
     "25b4dd1981ed4667b672ad4164ec1e0a": {
      "model_module": "@jupyter-widgets/base",
      "model_module_version": "1.1.0",
      "model_name": "LayoutModel",
      "state": {}
     },
     "26fcd982a99343088ec4c77f28a95892": {
      "model_module": "@jupyter-widgets/base",
      "model_module_version": "1.1.0",
      "model_name": "LayoutModel",
      "state": {}
     },
     "2922b24b8e1a4e8ebafdd1320d1ea887": {
      "model_module": "@jupyter-widgets/controls",
      "model_module_version": "1.4.0",
      "model_name": "ProgressStyleModel",
      "state": {
       "description_width": ""
      }
     },
     "29756107fdd648adb95aa072ac8d1481": {
      "model_module": "@jupyter-widgets/controls",
      "model_module_version": "1.4.0",
      "model_name": "HBoxModel",
      "state": {
       "children": [
        "IPY_MODEL_54bf007568bb4f4b96fc110f3e30e5e9",
        "IPY_MODEL_1ed2ed15dc754d21b7a49f0c81e76046"
       ],
       "layout": "IPY_MODEL_998ed64048194fde86d65f451e625807"
      }
     },
     "29cd4fe9727d482d91fbaa7ad7461caf": {
      "model_module": "@jupyter-widgets/controls",
      "model_module_version": "1.4.0",
      "model_name": "IntProgressModel",
      "state": {
       "bar_style": "success",
       "layout": "IPY_MODEL_943ba0e6aa8c4ae88de4cc494d463e2e",
       "max": 90,
       "style": "IPY_MODEL_f426a0d865e347759f68be85b90cfbb8",
       "value": 90
      }
     },
     "2a8ca92234524e3b86309150905635d1": {
      "model_module": "@jupyter-widgets/controls",
      "model_module_version": "1.4.0",
      "model_name": "HTMLModel",
      "state": {
       "layout": "IPY_MODEL_d83623f789a3408192e95f9b7a56fd83",
       "style": "IPY_MODEL_7e643c6844d64c9cb5964017b28ba56c",
       "value": "100% 10/10 [00:51&lt;00:00,  5.15s/it]"
      }
     },
     "2ac38c129f6d4c8380caaa15c539eb5d": {
      "model_module": "@jupyter-widgets/controls",
      "model_module_version": "1.4.0",
      "model_name": "DescriptionStyleModel",
      "state": {
       "description_width": ""
      }
     },
     "2ae6faf9b449470187a78655c9251d2a": {
      "model_module": "@jupyter-widgets/base",
      "model_module_version": "1.1.0",
      "model_name": "LayoutModel",
      "state": {}
     },
     "2ae8fc1c118341ba9461d0d9e59c3b5d": {
      "model_module": "@jupyter-widgets/base",
      "model_module_version": "1.1.0",
      "model_name": "LayoutModel",
      "state": {}
     },
     "2b815be45b9c4228a115ac6f0e8e7ad0": {
      "model_module": "@jupyter-widgets/controls",
      "model_module_version": "1.4.0",
      "model_name": "HBoxModel",
      "state": {
       "children": [
        "IPY_MODEL_111bb75fc3534994b239c64d575f0d84",
        "IPY_MODEL_bc0bc4336e654c149ee1d3937b4fef6b"
       ],
       "layout": "IPY_MODEL_fb517b53d19a42f0991652b26df16e8e"
      }
     },
     "2c2b42f928064940a75ccb2d219f0b3b": {
      "model_module": "@jupyter-widgets/base",
      "model_module_version": "1.1.0",
      "model_name": "LayoutModel",
      "state": {}
     },
     "2dcd6b64110b4831a65a25c47cdbb0b6": {
      "model_module": "@jupyter-widgets/controls",
      "model_module_version": "1.4.0",
      "model_name": "DescriptionStyleModel",
      "state": {
       "description_width": ""
      }
     },
     "2e48129c00f0428fb4a6d5800244cc07": {
      "model_module": "@jupyter-widgets/controls",
      "model_module_version": "1.4.0",
      "model_name": "ProgressStyleModel",
      "state": {
       "description_width": ""
      }
     },
     "30458e818a364e41a4bdeae7082f09c9": {
      "model_module": "@jupyter-widgets/controls",
      "model_module_version": "1.4.0",
      "model_name": "IntProgressModel",
      "state": {
       "bar_style": "danger",
       "layout": "IPY_MODEL_20bbe4e5dec849d58499f55f24582fc1",
       "max": 88,
       "style": "IPY_MODEL_540190125e87431687f1e418425e76f9",
       "value": 3
      }
     },
     "309369b6ad1645cebb279d52a0625b34": {
      "model_module": "@jupyter-widgets/base",
      "model_module_version": "1.1.0",
      "model_name": "LayoutModel",
      "state": {}
     },
     "30d6864761cb429d95859b2f523d027f": {
      "model_module": "@jupyter-widgets/base",
      "model_module_version": "1.1.0",
      "model_name": "LayoutModel",
      "state": {}
     },
     "315243b4ba234789b24cabe78407a37f": {
      "model_module": "@jupyter-widgets/controls",
      "model_module_version": "1.4.0",
      "model_name": "HBoxModel",
      "state": {
       "children": [
        "IPY_MODEL_f9ee2e87a5004d5f80ac4c183fd3d0b3",
        "IPY_MODEL_034b5b2f80a74be5ab25f5183eb677ff"
       ],
       "layout": "IPY_MODEL_3fd143e7e4414516b4bf2d68c75ef906"
      }
     },
     "31b115c05027497d83188a0579e8c116": {
      "model_module": "@jupyter-widgets/controls",
      "model_module_version": "1.4.0",
      "model_name": "HBoxModel",
      "state": {
       "children": [
        "IPY_MODEL_eeb510040e9c46fe95f34d82a0297333",
        "IPY_MODEL_d1d69545e01a407cb08df3bf0231eeef"
       ],
       "layout": "IPY_MODEL_25b4dd1981ed4667b672ad4164ec1e0a"
      }
     },
     "33141f46ec6546fe9685064cd20e2fc9": {
      "model_module": "@jupyter-widgets/controls",
      "model_module_version": "1.4.0",
      "model_name": "ProgressStyleModel",
      "state": {
       "description_width": ""
      }
     },
     "366f659758b34c87afaf2147917ede65": {
      "model_module": "@jupyter-widgets/controls",
      "model_module_version": "1.4.0",
      "model_name": "HTMLModel",
      "state": {
       "layout": "IPY_MODEL_5f0dea9b75884cc3bb5f11e025854688",
       "style": "IPY_MODEL_fcee3acd03ef4c57a2be82a8f4198059",
       "value": "100% 90/90 [08:33&lt;00:00,  5.71s/it]"
      }
     },
     "379d53ed1b394f22a7030319d48ad9e9": {
      "model_module": "@jupyter-widgets/base",
      "model_module_version": "1.1.0",
      "model_name": "LayoutModel",
      "state": {}
     },
     "37c9d3e60f4f422bb0a9c1408dd33aa1": {
      "model_module": "@jupyter-widgets/controls",
      "model_module_version": "1.4.0",
      "model_name": "ProgressStyleModel",
      "state": {
       "description_width": ""
      }
     },
     "398c1836eac94eceb05b838000bbe607": {
      "model_module": "@jupyter-widgets/controls",
      "model_module_version": "1.4.0",
      "model_name": "HBoxModel",
      "state": {
       "children": [
        "IPY_MODEL_90809530e68a483f8b8d61cfd17d6f32",
        "IPY_MODEL_6f6115de7dc5475db27295379d2dc510"
       ],
       "layout": "IPY_MODEL_c976210a1ce3463e9e8c9a4d1f1eb234"
      }
     },
     "3a943b7cacf24eafa28f2e9fa27ad13f": {
      "model_module": "@jupyter-widgets/controls",
      "model_module_version": "1.4.0",
      "model_name": "HBoxModel",
      "state": {
       "children": [
        "IPY_MODEL_6cb6e242728f4e70a027f6bc60f4430d",
        "IPY_MODEL_aa00cb24dc7d4313a047c7690925c919"
       ],
       "layout": "IPY_MODEL_9c0d418a97364580aeb54a86b91f054e"
      }
     },
     "3aa5427c81704e9ab37458c2adf9ae1a": {
      "model_module": "@jupyter-widgets/base",
      "model_module_version": "1.1.0",
      "model_name": "LayoutModel",
      "state": {}
     },
     "3b2d377afc0f4617bfe8983590a518b5": {
      "model_module": "@jupyter-widgets/controls",
      "model_module_version": "1.4.0",
      "model_name": "HTMLModel",
      "state": {
       "layout": "IPY_MODEL_4da889a4aa1b476d9088614d0c0bbf11",
       "style": "IPY_MODEL_e36c4eb1e6e14d8bbc910b699cfeb015",
       "value": "100% 90/90 [05:09&lt;00:00,  3.44s/it]"
      }
     },
     "3dd19c9edd674bf0a8c42b7ade38bdde": {
      "model_module": "@jupyter-widgets/base",
      "model_module_version": "1.1.0",
      "model_name": "LayoutModel",
      "state": {}
     },
     "3dede50410a14b6f8b5f819277c343fa": {
      "model_module": "@jupyter-widgets/controls",
      "model_module_version": "1.4.0",
      "model_name": "DescriptionStyleModel",
      "state": {
       "description_width": ""
      }
     },
     "3e06aae64695403394fcd309df12ced8": {
      "model_module": "@jupyter-widgets/controls",
      "model_module_version": "1.4.0",
      "model_name": "HTMLModel",
      "state": {
       "layout": "IPY_MODEL_7da369be40d041cfa35b12648753f13e",
       "style": "IPY_MODEL_1c9491a21b5f4cd5a0800724f1a78825",
       "value": "  0% 0/25 [00:00&lt;?, ?it/s]"
      }
     },
     "3ea31605fc0041f6b7c48f4e56bebe2f": {
      "model_module": "@jupyter-widgets/controls",
      "model_module_version": "1.4.0",
      "model_name": "HTMLModel",
      "state": {
       "layout": "IPY_MODEL_ed5a62d3d2d6413daef65ebed1609ca4",
       "style": "IPY_MODEL_b909f4b33ff74b28852566f818e51ad1",
       "value": "100% 88/88 [07:31&lt;00:00,  5.11s/it]"
      }
     },
     "3f392834ee304d1a8f3eea56009f65cd": {
      "model_module": "@jupyter-widgets/base",
      "model_module_version": "1.1.0",
      "model_name": "LayoutModel",
      "state": {}
     },
     "3fd143e7e4414516b4bf2d68c75ef906": {
      "model_module": "@jupyter-widgets/base",
      "model_module_version": "1.1.0",
      "model_name": "LayoutModel",
      "state": {}
     },
     "409cc44278be4938adebef572a754646": {
      "model_module": "@jupyter-widgets/base",
      "model_module_version": "1.1.0",
      "model_name": "LayoutModel",
      "state": {}
     },
     "4121db4f1ea444d0948168829307fed8": {
      "model_module": "@jupyter-widgets/base",
      "model_module_version": "1.1.0",
      "model_name": "LayoutModel",
      "state": {}
     },
     "41bb17453e394ca7aa5e315bdab58bb2": {
      "model_module": "@jupyter-widgets/controls",
      "model_module_version": "1.4.0",
      "model_name": "ProgressStyleModel",
      "state": {
       "description_width": ""
      }
     },
     "41bff7f42dc34229b50e32d96097bb7a": {
      "model_module": "@jupyter-widgets/controls",
      "model_module_version": "1.4.0",
      "model_name": "HBoxModel",
      "state": {
       "children": [
        "IPY_MODEL_17112025f4fe4000bdeeed11c20e6d04",
        "IPY_MODEL_aa196ac414294831b9c4f6be4411497d"
       ],
       "layout": "IPY_MODEL_97cf7328b6bd4109912a63705b168869"
      }
     },
     "41e1e763c865476080594157a084957f": {
      "model_module": "@jupyter-widgets/base",
      "model_module_version": "1.1.0",
      "model_name": "LayoutModel",
      "state": {}
     },
     "43b4f17e7b3d412e96ec8902d0f46b52": {
      "model_module": "@jupyter-widgets/controls",
      "model_module_version": "1.4.0",
      "model_name": "HBoxModel",
      "state": {
       "children": [
        "IPY_MODEL_d8474593b70e4ce285f7aa1b29b53eae",
        "IPY_MODEL_dc66ee113db94d458385bce9951ebbe7"
       ],
       "layout": "IPY_MODEL_b555ed8e7544400288fb0dc7ddae6018"
      }
     },
     "45fff1bb52db488a9e51e5b86868a6ae": {
      "model_module": "@jupyter-widgets/base",
      "model_module_version": "1.1.0",
      "model_name": "LayoutModel",
      "state": {}
     },
     "473d2836b04042b3b9d045d60ab5190f": {
      "model_module": "@jupyter-widgets/controls",
      "model_module_version": "1.4.0",
      "model_name": "IntProgressModel",
      "state": {
       "bar_style": "success",
       "layout": "IPY_MODEL_b924013709a44841a0761693753ce766",
       "max": 88,
       "style": "IPY_MODEL_7f09038fa39d4f46958017488887aea2",
       "value": 88
      }
     },
     "483de0f0f3c4423289ccee8612a78d27": {
      "model_module": "@jupyter-widgets/controls",
      "model_module_version": "1.4.0",
      "model_name": "DescriptionStyleModel",
      "state": {
       "description_width": ""
      }
     },
     "493eed17a8a8424ba40aa7d924eaf6ff": {
      "model_module": "@jupyter-widgets/controls",
      "model_module_version": "1.4.0",
      "model_name": "HBoxModel",
      "state": {
       "children": [
        "IPY_MODEL_cc12d13e77814bafa7660677de3d2226",
        "IPY_MODEL_65d6f4c31e45473bba58eda6a3b49eba"
       ],
       "layout": "IPY_MODEL_20952d855a014ab1a824ed09f0a67027"
      }
     },
     "49d1db9d12ce47359beb75704a5baf16": {
      "model_module": "@jupyter-widgets/controls",
      "model_module_version": "1.4.0",
      "model_name": "ProgressStyleModel",
      "state": {
       "description_width": ""
      }
     },
     "4b456a75f3924eecbb6b764900caf834": {
      "model_module": "@jupyter-widgets/controls",
      "model_module_version": "1.4.0",
      "model_name": "ProgressStyleModel",
      "state": {
       "description_width": ""
      }
     },
     "4b9c8bfb425c4fd1a852da87eaada62e": {
      "model_module": "@jupyter-widgets/controls",
      "model_module_version": "1.4.0",
      "model_name": "HTMLModel",
      "state": {
       "layout": "IPY_MODEL_b7d7f107533a4333a992849d74ec6b1a",
       "style": "IPY_MODEL_4bad4f0a087641c3a76cfbf8b3f29c88",
       "value": "100% 90/90 [08:30&lt;00:00,  5.67s/it]"
      }
     },
     "4bad4f0a087641c3a76cfbf8b3f29c88": {
      "model_module": "@jupyter-widgets/controls",
      "model_module_version": "1.4.0",
      "model_name": "DescriptionStyleModel",
      "state": {
       "description_width": ""
      }
     },
     "4be104624cd44e0cbd2312834e2b652d": {
      "model_module": "@jupyter-widgets/base",
      "model_module_version": "1.1.0",
      "model_name": "LayoutModel",
      "state": {}
     },
     "4c78a675f59c459a83606b69301a9949": {
      "model_module": "@jupyter-widgets/controls",
      "model_module_version": "1.4.0",
      "model_name": "HTMLModel",
      "state": {
       "layout": "IPY_MODEL_6c45294b310a46c69ce3015a5fc77fef",
       "style": "IPY_MODEL_d4196c89b27c4c26adda44727062c3a8",
       "value": "  0% 0/90 [00:00&lt;?, ?it/s]"
      }
     },
     "4da889a4aa1b476d9088614d0c0bbf11": {
      "model_module": "@jupyter-widgets/base",
      "model_module_version": "1.1.0",
      "model_name": "LayoutModel",
      "state": {}
     },
     "4f44b167b17a449f974876a7278d81fd": {
      "model_module": "@jupyter-widgets/controls",
      "model_module_version": "1.4.0",
      "model_name": "HTMLModel",
      "state": {
       "layout": "IPY_MODEL_988ed663ca2d474ab8dbaa83ee7aeacb",
       "style": "IPY_MODEL_7dfc5809239847178a649016ca3cfe1b",
       "value": "100% 28/28 [00:00&lt;00:00, 1321.53it/s]"
      }
     },
     "506b01250ee949c69513899431d2193a": {
      "model_module": "@jupyter-widgets/controls",
      "model_module_version": "1.4.0",
      "model_name": "ProgressStyleModel",
      "state": {
       "description_width": ""
      }
     },
     "50ddd8be2704467dbd1c5362fa27bc2e": {
      "model_module": "@jupyter-widgets/base",
      "model_module_version": "1.1.0",
      "model_name": "LayoutModel",
      "state": {}
     },
     "51657b0835704d6eb7660ff87f8f7d8f": {
      "model_module": "@jupyter-widgets/controls",
      "model_module_version": "1.4.0",
      "model_name": "HTMLModel",
      "state": {
       "layout": "IPY_MODEL_819f87f6c29b4a81bdbb7f0b89e1a0b2",
       "style": "IPY_MODEL_7b76779a459341f89c32bd3f38b9c4bc",
       "value": "100% 100/100 [14:30&lt;00:00,  8.71s/it]"
      }
     },
     "53817148b9b14f17b6c83f6f2a5204f1": {
      "model_module": "@jupyter-widgets/controls",
      "model_module_version": "1.4.0",
      "model_name": "HBoxModel",
      "state": {
       "children": [
        "IPY_MODEL_757f51f4d6264225ab39230260a0efad",
        "IPY_MODEL_b16a2b2f4d614ea2ad373a3cd71a6d44"
       ],
       "layout": "IPY_MODEL_09f73f4a467e4839a42064c1e5b57466"
      }
     },
     "53d612b7354c41dcabcc5cd9d2d752f4": {
      "model_module": "@jupyter-widgets/controls",
      "model_module_version": "1.4.0",
      "model_name": "ProgressStyleModel",
      "state": {
       "description_width": ""
      }
     },
     "53d89bf0ac2f4707ab9386afd2d61235": {
      "model_module": "@jupyter-widgets/base",
      "model_module_version": "1.1.0",
      "model_name": "LayoutModel",
      "state": {}
     },
     "540190125e87431687f1e418425e76f9": {
      "model_module": "@jupyter-widgets/controls",
      "model_module_version": "1.4.0",
      "model_name": "ProgressStyleModel",
      "state": {
       "description_width": ""
      }
     },
     "547b5c9731f8425998590cc45e32cb17": {
      "model_module": "@jupyter-widgets/controls",
      "model_module_version": "1.4.0",
      "model_name": "DescriptionStyleModel",
      "state": {
       "description_width": ""
      }
     },
     "54bf007568bb4f4b96fc110f3e30e5e9": {
      "model_module": "@jupyter-widgets/controls",
      "model_module_version": "1.4.0",
      "model_name": "IntProgressModel",
      "state": {
       "bar_style": "success",
       "layout": "IPY_MODEL_b765225ac3f243a08234498ce74a3d6c",
       "style": "IPY_MODEL_2922b24b8e1a4e8ebafdd1320d1ea887",
       "value": 100
      }
     },
     "55b2abb6090d4989a76ec32b2c77897b": {
      "model_module": "@jupyter-widgets/controls",
      "model_module_version": "1.4.0",
      "model_name": "HBoxModel",
      "state": {
       "children": [
        "IPY_MODEL_0433ac9d1a5e40b890f63485ac251d1c",
        "IPY_MODEL_8ab59ba210b148689f0782aaaf051010"
       ],
       "layout": "IPY_MODEL_c0c2a6850e0a4135a073c3ca3fb79398"
      }
     },
     "55c92282d2684c1cbbaec34d911fb8eb": {
      "model_module": "@jupyter-widgets/controls",
      "model_module_version": "1.4.0",
      "model_name": "IntProgressModel",
      "state": {
       "layout": "IPY_MODEL_5b10855ffbc34a1bb44c40895d44848e",
       "max": 90,
       "style": "IPY_MODEL_41bb17453e394ca7aa5e315bdab58bb2"
      }
     },
     "56b685d612b54613bb915a720be48501": {
      "model_module": "@jupyter-widgets/base",
      "model_module_version": "1.1.0",
      "model_name": "LayoutModel",
      "state": {}
     },
     "56e9ede463924e29ab77a63e4b84be55": {
      "model_module": "@jupyter-widgets/controls",
      "model_module_version": "1.4.0",
      "model_name": "HTMLModel",
      "state": {
       "layout": "IPY_MODEL_fa465225c61942198ecc234f7ef45a38",
       "style": "IPY_MODEL_2ac38c129f6d4c8380caaa15c539eb5d",
       "value": "  0% 0/28 [00:00&lt;?, ?it/s]"
      }
     },
     "577acaa6b1274256915c4479152c1284": {
      "model_module": "@jupyter-widgets/base",
      "model_module_version": "1.1.0",
      "model_name": "LayoutModel",
      "state": {}
     },
     "57ff1eda83e848bb9c2fc8959ba97daa": {
      "model_module": "@jupyter-widgets/controls",
      "model_module_version": "1.4.0",
      "model_name": "ProgressStyleModel",
      "state": {
       "description_width": ""
      }
     },
     "584704dd472e44f5b51c450f0a7fda25": {
      "model_module": "@jupyter-widgets/base",
      "model_module_version": "1.1.0",
      "model_name": "LayoutModel",
      "state": {}
     },
     "58baeff11a034988aecdd80d5cac4a03": {
      "model_module": "@jupyter-widgets/controls",
      "model_module_version": "1.4.0",
      "model_name": "ProgressStyleModel",
      "state": {
       "description_width": ""
      }
     },
     "597401d973b34b9886e8ef9f6b189ca4": {
      "model_module": "@jupyter-widgets/base",
      "model_module_version": "1.1.0",
      "model_name": "LayoutModel",
      "state": {}
     },
     "5b10855ffbc34a1bb44c40895d44848e": {
      "model_module": "@jupyter-widgets/base",
      "model_module_version": "1.1.0",
      "model_name": "LayoutModel",
      "state": {}
     },
     "5b14010168f84b358a04d5e873fd0f32": {
      "model_module": "@jupyter-widgets/controls",
      "model_module_version": "1.4.0",
      "model_name": "HBoxModel",
      "state": {
       "children": [
        "IPY_MODEL_0f78f21c722144189749f994a8395491",
        "IPY_MODEL_3ea31605fc0041f6b7c48f4e56bebe2f"
       ],
       "layout": "IPY_MODEL_0aae941cebf645b295c001a23c3fc161"
      }
     },
     "5b87853341e743b69e09a26e35ae37ea": {
      "model_module": "@jupyter-widgets/controls",
      "model_module_version": "1.4.0",
      "model_name": "DescriptionStyleModel",
      "state": {
       "description_width": ""
      }
     },
     "5c0767c8f21e445a86ebb553a747eff3": {
      "model_module": "@jupyter-widgets/controls",
      "model_module_version": "1.4.0",
      "model_name": "HTMLModel",
      "state": {
       "layout": "IPY_MODEL_c70636eb78c1478a9f5db863eccd930b",
       "style": "IPY_MODEL_76f5b57cc7d742abbf2e698fc905e0ed",
       "value": "100% 88/88 [07:30&lt;00:00,  5.12s/it]"
      }
     },
     "5c6cb1dca2cb406485b70228083024cf": {
      "model_module": "@jupyter-widgets/controls",
      "model_module_version": "1.4.0",
      "model_name": "HBoxModel",
      "state": {
       "children": [
        "IPY_MODEL_0abc135fc1c3483281cacdd750204e64",
        "IPY_MODEL_9ade876972b643dcb829782ff633d978"
       ],
       "layout": "IPY_MODEL_9a4e74b25d474f2eac80510e9e6b46e1"
      }
     },
     "5ccbfc6d40a843bea5749e4de71c64b3": {
      "model_module": "@jupyter-widgets/controls",
      "model_module_version": "1.4.0",
      "model_name": "HBoxModel",
      "state": {
       "children": [
        "IPY_MODEL_55c92282d2684c1cbbaec34d911fb8eb",
        "IPY_MODEL_8a941b9c242948fca37ffbc4fa44f036"
       ],
       "layout": "IPY_MODEL_759ff96b27354a5c92789805964ed1b7"
      }
     },
     "5ccccd970fc44595ac93c33d3cc310fd": {
      "model_module": "@jupyter-widgets/controls",
      "model_module_version": "1.4.0",
      "model_name": "DescriptionStyleModel",
      "state": {
       "description_width": ""
      }
     },
     "5cda27c7def047d591f0dee574a6d7bb": {
      "model_module": "@jupyter-widgets/base",
      "model_module_version": "1.1.0",
      "model_name": "LayoutModel",
      "state": {}
     },
     "5cdcf66a594d45208df9448f4609d0e8": {
      "model_module": "@jupyter-widgets/base",
      "model_module_version": "1.1.0",
      "model_name": "LayoutModel",
      "state": {}
     },
     "5f0dea9b75884cc3bb5f11e025854688": {
      "model_module": "@jupyter-widgets/base",
      "model_module_version": "1.1.0",
      "model_name": "LayoutModel",
      "state": {}
     },
     "60a2001ef02d477d90e959583af749ff": {
      "model_module": "@jupyter-widgets/base",
      "model_module_version": "1.1.0",
      "model_name": "LayoutModel",
      "state": {}
     },
     "612348b659584a878c8f2fbe7b40d7b4": {
      "model_module": "@jupyter-widgets/controls",
      "model_module_version": "1.4.0",
      "model_name": "ProgressStyleModel",
      "state": {
       "description_width": ""
      }
     },
     "6142c5cee965411c86da96afbd620933": {
      "model_module": "@jupyter-widgets/controls",
      "model_module_version": "1.4.0",
      "model_name": "ProgressStyleModel",
      "state": {
       "description_width": ""
      }
     },
     "6160eb9f9de74da0bf94bc7b1b8e49d0": {
      "model_module": "@jupyter-widgets/controls",
      "model_module_version": "1.4.0",
      "model_name": "DescriptionStyleModel",
      "state": {
       "description_width": ""
      }
     },
     "646435b6956b4f119ccd43be89a6d4d7": {
      "model_module": "@jupyter-widgets/controls",
      "model_module_version": "1.4.0",
      "model_name": "HTMLModel",
      "state": {
       "layout": "IPY_MODEL_b900b5d56f854e47bffd581f7c12b13b",
       "style": "IPY_MODEL_bb55af2679c04ca195cee18aa74c5a07",
       "value": "  0% 0/10 [00:00&lt;?, ?it/s]"
      }
     },
     "647ee78851bb4422971b49ea656dd6f3": {
      "model_module": "@jupyter-widgets/controls",
      "model_module_version": "1.4.0",
      "model_name": "HTMLModel",
      "state": {
       "layout": "IPY_MODEL_d799e98fa6204f1c83f8f21d27254eae",
       "style": "IPY_MODEL_5b87853341e743b69e09a26e35ae37ea",
       "value": "  6% 6/100 [16:25&lt;4:20:34, 166.32s/it]"
      }
     },
     "64fa9b445c4b437a8a5b03373e61cfbe": {
      "model_module": "@jupyter-widgets/controls",
      "model_module_version": "1.4.0",
      "model_name": "IntProgressModel",
      "state": {
       "bar_style": "success",
       "layout": "IPY_MODEL_cc7955fa6d8c4e2688c84cb23f1210a2",
       "max": 90,
       "style": "IPY_MODEL_8bbef66d358f4fe39ca312fe94bcb019",
       "value": 90
      }
     },
     "65d6f4c31e45473bba58eda6a3b49eba": {
      "model_module": "@jupyter-widgets/controls",
      "model_module_version": "1.4.0",
      "model_name": "HTMLModel",
      "state": {
       "layout": "IPY_MODEL_53d89bf0ac2f4707ab9386afd2d61235",
       "style": "IPY_MODEL_3dede50410a14b6f8b5f819277c343fa",
       "value": "100% 25/25 [02:08&lt;00:00,  5.15s/it]"
      }
     },
     "662203e107a34036a68fc427d5706bf9": {
      "model_module": "@jupyter-widgets/controls",
      "model_module_version": "1.4.0",
      "model_name": "DescriptionStyleModel",
      "state": {
       "description_width": ""
      }
     },
     "6650faf722e54650886cf9a889976613": {
      "model_module": "@jupyter-widgets/base",
      "model_module_version": "1.1.0",
      "model_name": "LayoutModel",
      "state": {}
     },
     "665801d996dd433e9fd6cf35178bfa7a": {
      "model_module": "@jupyter-widgets/controls",
      "model_module_version": "1.4.0",
      "model_name": "DescriptionStyleModel",
      "state": {
       "description_width": ""
      }
     },
     "67890f5565f84132b5afb3508fcb1f50": {
      "model_module": "@jupyter-widgets/controls",
      "model_module_version": "1.4.0",
      "model_name": "ProgressStyleModel",
      "state": {
       "description_width": ""
      }
     },
     "688b10a2664a420cad021abd21216866": {
      "model_module": "@jupyter-widgets/controls",
      "model_module_version": "1.4.0",
      "model_name": "IntProgressModel",
      "state": {
       "bar_style": "danger",
       "layout": "IPY_MODEL_1bda065d12db43c884f7938839e169fc",
       "max": 10,
       "style": "IPY_MODEL_49d1db9d12ce47359beb75704a5baf16"
      }
     },
     "68c8aa674d9b40ffb6cabf5daee6f2fb": {
      "model_module": "@jupyter-widgets/base",
      "model_module_version": "1.1.0",
      "model_name": "LayoutModel",
      "state": {}
     },
     "695c123a6c9846448a6a2329bfe8b819": {
      "model_module": "@jupyter-widgets/base",
      "model_module_version": "1.1.0",
      "model_name": "LayoutModel",
      "state": {}
     },
     "6bf1ea47bdbb4c978d7d1ad9954b8706": {
      "model_module": "@jupyter-widgets/controls",
      "model_module_version": "1.4.0",
      "model_name": "HBoxModel",
      "state": {
       "children": [
        "IPY_MODEL_cb9e90fe5368457e8948f5dcb1d0a9bd",
        "IPY_MODEL_18cad668f16c4d01a6527bbb37df2980"
       ],
       "layout": "IPY_MODEL_74781be418cb4a32b07a982932546865"
      }
     },
     "6c45294b310a46c69ce3015a5fc77fef": {
      "model_module": "@jupyter-widgets/base",
      "model_module_version": "1.1.0",
      "model_name": "LayoutModel",
      "state": {}
     },
     "6cb6e242728f4e70a027f6bc60f4430d": {
      "model_module": "@jupyter-widgets/controls",
      "model_module_version": "1.4.0",
      "model_name": "IntProgressModel",
      "state": {
       "bar_style": "danger",
       "layout": "IPY_MODEL_2c2b42f928064940a75ccb2d219f0b3b",
       "max": 25,
       "style": "IPY_MODEL_6142c5cee965411c86da96afbd620933"
      }
     },
     "6f6115de7dc5475db27295379d2dc510": {
      "model_module": "@jupyter-widgets/controls",
      "model_module_version": "1.4.0",
      "model_name": "HTMLModel",
      "state": {
       "layout": "IPY_MODEL_eedb1f3627ac4ed5946a02f825f80d5d",
       "style": "IPY_MODEL_665801d996dd433e9fd6cf35178bfa7a",
       "value": "100% 10/10 [00:51&lt;00:00,  5.14s/it]"
      }
     },
     "6fbce630aaa94a1a94f4ea834d7a4dab": {
      "model_module": "@jupyter-widgets/base",
      "model_module_version": "1.1.0",
      "model_name": "LayoutModel",
      "state": {}
     },
     "71d7114256f54b1a89789066e32b5eaf": {
      "model_module": "@jupyter-widgets/controls",
      "model_module_version": "1.4.0",
      "model_name": "DescriptionStyleModel",
      "state": {
       "description_width": ""
      }
     },
     "74781be418cb4a32b07a982932546865": {
      "model_module": "@jupyter-widgets/base",
      "model_module_version": "1.1.0",
      "model_name": "LayoutModel",
      "state": {}
     },
     "757f51f4d6264225ab39230260a0efad": {
      "model_module": "@jupyter-widgets/controls",
      "model_module_version": "1.4.0",
      "model_name": "IntProgressModel",
      "state": {
       "bar_style": "success",
       "layout": "IPY_MODEL_858b3232322a4ca5a3545a0511b2daf6",
       "style": "IPY_MODEL_e40c930925b44edd9f5d855d0a51ad3d",
       "value": 100
      }
     },
     "759ff96b27354a5c92789805964ed1b7": {
      "model_module": "@jupyter-widgets/base",
      "model_module_version": "1.1.0",
      "model_name": "LayoutModel",
      "state": {}
     },
     "75f703b6e13344c48c6842c31c1881a7": {
      "model_module": "@jupyter-widgets/controls",
      "model_module_version": "1.4.0",
      "model_name": "IntProgressModel",
      "state": {
       "bar_style": "success",
       "layout": "IPY_MODEL_ca17c544a2ba4e3e8fc97845ce158389",
       "max": 90,
       "style": "IPY_MODEL_e02d675509084f77828138f14141f831",
       "value": 90
      }
     },
     "76d618d738da49ccadbe9535e8cbefc1": {
      "model_module": "@jupyter-widgets/controls",
      "model_module_version": "1.4.0",
      "model_name": "IntProgressModel",
      "state": {
       "bar_style": "success",
       "layout": "IPY_MODEL_95b1f69f054f472296a2315e1fbaa43b",
       "max": 25,
       "style": "IPY_MODEL_b53f4441deda48b594c6fa747ec56e76",
       "value": 25
      }
     },
     "76f5b57cc7d742abbf2e698fc905e0ed": {
      "model_module": "@jupyter-widgets/controls",
      "model_module_version": "1.4.0",
      "model_name": "DescriptionStyleModel",
      "state": {
       "description_width": ""
      }
     },
     "7a7ffae8791f4d618153661b5997cdbd": {
      "model_module": "@jupyter-widgets/controls",
      "model_module_version": "1.4.0",
      "model_name": "HTMLModel",
      "state": {
       "layout": "IPY_MODEL_f5281ad0c9b848dbafa428b8ceffeb68",
       "style": "IPY_MODEL_6160eb9f9de74da0bf94bc7b1b8e49d0",
       "value": "  3% 3/88 [00:15&lt;07:19,  5.17s/it]"
      }
     },
     "7b76779a459341f89c32bd3f38b9c4bc": {
      "model_module": "@jupyter-widgets/controls",
      "model_module_version": "1.4.0",
      "model_name": "DescriptionStyleModel",
      "state": {
       "description_width": ""
      }
     },
     "7b8cbc5bf55a48efb5d23c3699993d4b": {
      "model_module": "@jupyter-widgets/base",
      "model_module_version": "1.1.0",
      "model_name": "LayoutModel",
      "state": {}
     },
     "7da369be40d041cfa35b12648753f13e": {
      "model_module": "@jupyter-widgets/base",
      "model_module_version": "1.1.0",
      "model_name": "LayoutModel",
      "state": {}
     },
     "7de628796a044896af9e94eb6529e0eb": {
      "model_module": "@jupyter-widgets/controls",
      "model_module_version": "1.4.0",
      "model_name": "IntProgressModel",
      "state": {
       "bar_style": "danger",
       "layout": "IPY_MODEL_d6403c7209a04062b78ae000955a302c",
       "max": 10,
       "style": "IPY_MODEL_a086e9a66d0e4c88ac11d2e23e60590c"
      }
     },
     "7dfc5809239847178a649016ca3cfe1b": {
      "model_module": "@jupyter-widgets/controls",
      "model_module_version": "1.4.0",
      "model_name": "DescriptionStyleModel",
      "state": {
       "description_width": ""
      }
     },
     "7e13c14b58384b9883dca857ec979778": {
      "model_module": "@jupyter-widgets/controls",
      "model_module_version": "1.4.0",
      "model_name": "DescriptionStyleModel",
      "state": {
       "description_width": ""
      }
     },
     "7e643c6844d64c9cb5964017b28ba56c": {
      "model_module": "@jupyter-widgets/controls",
      "model_module_version": "1.4.0",
      "model_name": "DescriptionStyleModel",
      "state": {
       "description_width": ""
      }
     },
     "7ef8ccd630374243abb0a27bdce1d00e": {
      "model_module": "@jupyter-widgets/base",
      "model_module_version": "1.1.0",
      "model_name": "LayoutModel",
      "state": {}
     },
     "7f09038fa39d4f46958017488887aea2": {
      "model_module": "@jupyter-widgets/controls",
      "model_module_version": "1.4.0",
      "model_name": "ProgressStyleModel",
      "state": {
       "description_width": ""
      }
     },
     "803e0abfdcf44b4c82b6430db525d35f": {
      "model_module": "@jupyter-widgets/controls",
      "model_module_version": "1.4.0",
      "model_name": "ProgressStyleModel",
      "state": {
       "description_width": ""
      }
     },
     "809d2374470541f1b9189c487405ad1f": {
      "model_module": "@jupyter-widgets/base",
      "model_module_version": "1.1.0",
      "model_name": "LayoutModel",
      "state": {}
     },
     "80bb2579f1674b46b3da3c57b2a7f099": {
      "model_module": "@jupyter-widgets/controls",
      "model_module_version": "1.4.0",
      "model_name": "IntProgressModel",
      "state": {
       "bar_style": "success",
       "layout": "IPY_MODEL_015fb3bd6dfb4b89b36a5d8fa621d8e6",
       "style": "IPY_MODEL_67890f5565f84132b5afb3508fcb1f50",
       "value": 100
      }
     },
     "819f87f6c29b4a81bdbb7f0b89e1a0b2": {
      "model_module": "@jupyter-widgets/base",
      "model_module_version": "1.1.0",
      "model_name": "LayoutModel",
      "state": {}
     },
     "82655ff32e8341fb8e6c0b95bbb329a5": {
      "model_module": "@jupyter-widgets/controls",
      "model_module_version": "1.4.0",
      "model_name": "DescriptionStyleModel",
      "state": {
       "description_width": ""
      }
     },
     "82b43b4fc8c1403397c8a1f817bb8472": {
      "model_module": "@jupyter-widgets/controls",
      "model_module_version": "1.4.0",
      "model_name": "ProgressStyleModel",
      "state": {
       "description_width": ""
      }
     },
     "8493dd76d772428dbae6d61acd69e237": {
      "model_module": "@jupyter-widgets/controls",
      "model_module_version": "1.4.0",
      "model_name": "ProgressStyleModel",
      "state": {
       "description_width": ""
      }
     },
     "858b3232322a4ca5a3545a0511b2daf6": {
      "model_module": "@jupyter-widgets/base",
      "model_module_version": "1.1.0",
      "model_name": "LayoutModel",
      "state": {}
     },
     "8688d276953a4209ac8d04d6004ef39b": {
      "model_module": "@jupyter-widgets/controls",
      "model_module_version": "1.4.0",
      "model_name": "HBoxModel",
      "state": {
       "children": [
        "IPY_MODEL_a49a19fd5b834097a45f680c2348e68e",
        "IPY_MODEL_51657b0835704d6eb7660ff87f8f7d8f"
       ],
       "layout": "IPY_MODEL_50ddd8be2704467dbd1c5362fa27bc2e"
      }
     },
     "887bfad434104221afa6a93d1f455ef3": {
      "model_module": "@jupyter-widgets/controls",
      "model_module_version": "1.4.0",
      "model_name": "ProgressStyleModel",
      "state": {
       "description_width": ""
      }
     },
     "88f156f74c144e32b17542595b838e9c": {
      "model_module": "@jupyter-widgets/base",
      "model_module_version": "1.1.0",
      "model_name": "LayoutModel",
      "state": {}
     },
     "89372cf9870242d0afd62f481fb3e7b8": {
      "model_module": "@jupyter-widgets/controls",
      "model_module_version": "1.4.0",
      "model_name": "ProgressStyleModel",
      "state": {
       "description_width": ""
      }
     },
     "8a941b9c242948fca37ffbc4fa44f036": {
      "model_module": "@jupyter-widgets/controls",
      "model_module_version": "1.4.0",
      "model_name": "HTMLModel",
      "state": {
       "layout": "IPY_MODEL_f1eda9bb799543208e2c7e4168c35516",
       "style": "IPY_MODEL_24ed3d759d5d41f4a093343dc0303ca2",
       "value": "  0% 0/90 [00:00&lt;?, ?it/s]"
      }
     },
     "8a970e858a17453ba8cfddc0ed76c991": {
      "model_module": "@jupyter-widgets/controls",
      "model_module_version": "1.4.0",
      "model_name": "IntProgressModel",
      "state": {
       "bar_style": "success",
       "layout": "IPY_MODEL_2ae8fc1c118341ba9461d0d9e59c3b5d",
       "max": 90,
       "style": "IPY_MODEL_0bd4513d13694aedbec868b8e360625e",
       "value": 90
      }
     },
     "8ab59ba210b148689f0782aaaf051010": {
      "model_module": "@jupyter-widgets/controls",
      "model_module_version": "1.4.0",
      "model_name": "HTMLModel",
      "state": {
       "layout": "IPY_MODEL_7b8cbc5bf55a48efb5d23c3699993d4b",
       "style": "IPY_MODEL_a1ff6d8e230544d89b0b24dbe78e35fd",
       "value": "  0% 0/100 [00:00&lt;?, ?it/s]"
      }
     },
     "8ab741ff74ad4d0bbb83667676ceb105": {
      "model_module": "@jupyter-widgets/base",
      "model_module_version": "1.1.0",
      "model_name": "LayoutModel",
      "state": {}
     },
     "8b406344a796486d9ff7e47831ee60b3": {
      "model_module": "@jupyter-widgets/controls",
      "model_module_version": "1.4.0",
      "model_name": "DescriptionStyleModel",
      "state": {
       "description_width": ""
      }
     },
     "8bbef66d358f4fe39ca312fe94bcb019": {
      "model_module": "@jupyter-widgets/controls",
      "model_module_version": "1.4.0",
      "model_name": "ProgressStyleModel",
      "state": {
       "description_width": ""
      }
     },
     "8db922e7c07443bc8aba008ce0da946a": {
      "model_module": "@jupyter-widgets/base",
      "model_module_version": "1.1.0",
      "model_name": "LayoutModel",
      "state": {}
     },
     "8df2c7f932bf4e2fb314fbe2dab70825": {
      "model_module": "@jupyter-widgets/controls",
      "model_module_version": "1.4.0",
      "model_name": "HTMLModel",
      "state": {
       "layout": "IPY_MODEL_9a063cbddab5438caadd6252c2fc70da",
       "style": "IPY_MODEL_2dcd6b64110b4831a65a25c47cdbb0b6",
       "value": "100% 90/90 [5:48:29&lt;00:00, 232.33s/it]"
      }
     },
     "8efd3c760401458b94d42e5c7ddb276d": {
      "model_module": "@jupyter-widgets/controls",
      "model_module_version": "1.4.0",
      "model_name": "HTMLModel",
      "state": {
       "layout": "IPY_MODEL_9bc966462eb546299239bce7be1b59a1",
       "style": "IPY_MODEL_e0d636b29b3a4641b125db3d27fe696c",
       "value": "100% 25/25 [02:08&lt;00:00,  5.17s/it]"
      }
     },
     "8f1582049ca64ee9b0b15138baa35a4d": {
      "model_module": "@jupyter-widgets/controls",
      "model_module_version": "1.4.0",
      "model_name": "HTMLModel",
      "state": {
       "layout": "IPY_MODEL_00518c0c147842f5a006c76e6dac565a",
       "style": "IPY_MODEL_1e009d8fb86445c5a21d62e5ae9df835",
       "value": "  0% 0/9 [00:00&lt;?, ?it/s]"
      }
     },
     "8f6fa134fe4c4d61a3f1dfaf7e14915e": {
      "model_module": "@jupyter-widgets/base",
      "model_module_version": "1.1.0",
      "model_name": "LayoutModel",
      "state": {}
     },
     "90809530e68a483f8b8d61cfd17d6f32": {
      "model_module": "@jupyter-widgets/controls",
      "model_module_version": "1.4.0",
      "model_name": "IntProgressModel",
      "state": {
       "bar_style": "success",
       "layout": "IPY_MODEL_058c3c1e035d4b52a3ee4175394ba337",
       "max": 10,
       "style": "IPY_MODEL_82b43b4fc8c1403397c8a1f817bb8472",
       "value": 10
      }
     },
     "909bda28c1d4492e9d3470eacd430d98": {
      "model_module": "@jupyter-widgets/controls",
      "model_module_version": "1.4.0",
      "model_name": "HBoxModel",
      "state": {
       "children": [
        "IPY_MODEL_eb8efefa18e44c7ca789776b18658160",
        "IPY_MODEL_1781494ed02740ca869bd1e064eb99bb"
       ],
       "layout": "IPY_MODEL_1bc2c1a1aa454c4590b95b3059498f21"
      }
     },
     "90e05c2cbc3046c899c17d613aeccfcc": {
      "model_module": "@jupyter-widgets/controls",
      "model_module_version": "1.4.0",
      "model_name": "HBoxModel",
      "state": {
       "children": [
        "IPY_MODEL_29cd4fe9727d482d91fbaa7ad7461caf",
        "IPY_MODEL_8df2c7f932bf4e2fb314fbe2dab70825"
       ],
       "layout": "IPY_MODEL_4121db4f1ea444d0948168829307fed8"
      }
     },
     "90f483bac0204ef3bef71059f8431544": {
      "model_module": "@jupyter-widgets/controls",
      "model_module_version": "1.4.0",
      "model_name": "IntProgressModel",
      "state": {
       "bar_style": "success",
       "layout": "IPY_MODEL_0510cdcd983346e6b02a04d68a8a2088",
       "max": 25,
       "style": "IPY_MODEL_887bfad434104221afa6a93d1f455ef3",
       "value": 25
      }
     },
     "911531db34964ba495a851298ce02a74": {
      "model_module": "@jupyter-widgets/base",
      "model_module_version": "1.1.0",
      "model_name": "LayoutModel",
      "state": {}
     },
     "9346cb026615479e8b1776f3e71a887d": {
      "model_module": "@jupyter-widgets/base",
      "model_module_version": "1.1.0",
      "model_name": "LayoutModel",
      "state": {}
     },
     "943ba0e6aa8c4ae88de4cc494d463e2e": {
      "model_module": "@jupyter-widgets/base",
      "model_module_version": "1.1.0",
      "model_name": "LayoutModel",
      "state": {}
     },
     "95b1f69f054f472296a2315e1fbaa43b": {
      "model_module": "@jupyter-widgets/base",
      "model_module_version": "1.1.0",
      "model_name": "LayoutModel",
      "state": {}
     },
     "97cf7328b6bd4109912a63705b168869": {
      "model_module": "@jupyter-widgets/base",
      "model_module_version": "1.1.0",
      "model_name": "LayoutModel",
      "state": {}
     },
     "9856a0f6e4f041a5a7b83e4c447670d9": {
      "model_module": "@jupyter-widgets/controls",
      "model_module_version": "1.4.0",
      "model_name": "ProgressStyleModel",
      "state": {
       "description_width": ""
      }
     },
     "988ed663ca2d474ab8dbaa83ee7aeacb": {
      "model_module": "@jupyter-widgets/base",
      "model_module_version": "1.1.0",
      "model_name": "LayoutModel",
      "state": {}
     },
     "98f7ba06cc9b48f28b2e455ae41c2636": {
      "model_module": "@jupyter-widgets/controls",
      "model_module_version": "1.4.0",
      "model_name": "HTMLModel",
      "state": {
       "layout": "IPY_MODEL_b15faa81899c44d5a946a56d38e66ff8",
       "style": "IPY_MODEL_d4efc94cd337496ab9cf5a84254afda0",
       "value": " 84% 21/25 [01:48&lt;00:20,  5.15s/it]"
      }
     },
     "998ed64048194fde86d65f451e625807": {
      "model_module": "@jupyter-widgets/base",
      "model_module_version": "1.1.0",
      "model_name": "LayoutModel",
      "state": {}
     },
     "9a063cbddab5438caadd6252c2fc70da": {
      "model_module": "@jupyter-widgets/base",
      "model_module_version": "1.1.0",
      "model_name": "LayoutModel",
      "state": {}
     },
     "9a13734ceaaa4b3b9a4668020dd4d3c7": {
      "model_module": "@jupyter-widgets/controls",
      "model_module_version": "1.4.0",
      "model_name": "ProgressStyleModel",
      "state": {
       "description_width": ""
      }
     },
     "9a4e74b25d474f2eac80510e9e6b46e1": {
      "model_module": "@jupyter-widgets/base",
      "model_module_version": "1.1.0",
      "model_name": "LayoutModel",
      "state": {}
     },
     "9ace522cbb7d4303926bb85d64a3cca7": {
      "model_module": "@jupyter-widgets/base",
      "model_module_version": "1.1.0",
      "model_name": "LayoutModel",
      "state": {}
     },
     "9ad7b812cb9b47d887b2c6657bf1cb0e": {
      "model_module": "@jupyter-widgets/base",
      "model_module_version": "1.1.0",
      "model_name": "LayoutModel",
      "state": {}
     },
     "9ade876972b643dcb829782ff633d978": {
      "model_module": "@jupyter-widgets/controls",
      "model_module_version": "1.4.0",
      "model_name": "HTMLModel",
      "state": {
       "layout": "IPY_MODEL_1ab0ac2d2b1b419ba4473189bd8bcb0f",
       "style": "IPY_MODEL_7e13c14b58384b9883dca857ec979778",
       "value": "  0% 0/100 [00:00&lt;?, ?it/s]"
      }
     },
     "9b44b7140fc84627b1b124db44ff85b3": {
      "model_module": "@jupyter-widgets/base",
      "model_module_version": "1.1.0",
      "model_name": "LayoutModel",
      "state": {}
     },
     "9bc966462eb546299239bce7be1b59a1": {
      "model_module": "@jupyter-widgets/base",
      "model_module_version": "1.1.0",
      "model_name": "LayoutModel",
      "state": {}
     },
     "9c0d418a97364580aeb54a86b91f054e": {
      "model_module": "@jupyter-widgets/base",
      "model_module_version": "1.1.0",
      "model_name": "LayoutModel",
      "state": {}
     },
     "9d7fb34e5e4c41b8961d0b7a6e72fdba": {
      "model_module": "@jupyter-widgets/controls",
      "model_module_version": "1.4.0",
      "model_name": "DescriptionStyleModel",
      "state": {
       "description_width": ""
      }
     },
     "9fba272e5bf3437a9474f7fbb5f0591e": {
      "model_module": "@jupyter-widgets/base",
      "model_module_version": "1.1.0",
      "model_name": "LayoutModel",
      "state": {}
     },
     "a086e9a66d0e4c88ac11d2e23e60590c": {
      "model_module": "@jupyter-widgets/controls",
      "model_module_version": "1.4.0",
      "model_name": "ProgressStyleModel",
      "state": {
       "description_width": ""
      }
     },
     "a1b4612bb49741c3bdbd3d1704a17104": {
      "model_module": "@jupyter-widgets/controls",
      "model_module_version": "1.4.0",
      "model_name": "HBoxModel",
      "state": {
       "children": [
        "IPY_MODEL_1c3c9b110e544016b44de79129dd6ffc",
        "IPY_MODEL_4c78a675f59c459a83606b69301a9949"
       ],
       "layout": "IPY_MODEL_6650faf722e54650886cf9a889976613"
      }
     },
     "a1df2afe6ea24698a55d13d59bd51ee7": {
      "model_module": "@jupyter-widgets/controls",
      "model_module_version": "1.4.0",
      "model_name": "ProgressStyleModel",
      "state": {
       "description_width": ""
      }
     },
     "a1ff6d8e230544d89b0b24dbe78e35fd": {
      "model_module": "@jupyter-widgets/controls",
      "model_module_version": "1.4.0",
      "model_name": "DescriptionStyleModel",
      "state": {
       "description_width": ""
      }
     },
     "a49a19fd5b834097a45f680c2348e68e": {
      "model_module": "@jupyter-widgets/controls",
      "model_module_version": "1.4.0",
      "model_name": "IntProgressModel",
      "state": {
       "bar_style": "success",
       "layout": "IPY_MODEL_68c8aa674d9b40ffb6cabf5daee6f2fb",
       "style": "IPY_MODEL_33141f46ec6546fe9685064cd20e2fc9",
       "value": 100
      }
     },
     "a57579aaef93477e8676acade42f593f": {
      "model_module": "@jupyter-widgets/base",
      "model_module_version": "1.1.0",
      "model_name": "LayoutModel",
      "state": {}
     },
     "a5fc2c1c1ab74173af6705948e16e6b2": {
      "model_module": "@jupyter-widgets/controls",
      "model_module_version": "1.4.0",
      "model_name": "HBoxModel",
      "state": {
       "children": [
        "IPY_MODEL_f577ceaefdc64d87b930c1f97324bd9f",
        "IPY_MODEL_4f44b167b17a449f974876a7278d81fd"
       ],
       "layout": "IPY_MODEL_cea73cba106144c8beae5fbcbc586fb5"
      }
     },
     "a61e64444efa4aaf8550cfed4dfe491a": {
      "model_module": "@jupyter-widgets/base",
      "model_module_version": "1.1.0",
      "model_name": "LayoutModel",
      "state": {}
     },
     "a817519a23df423ba2f9d9f7549c4a18": {
      "model_module": "@jupyter-widgets/base",
      "model_module_version": "1.1.0",
      "model_name": "LayoutModel",
      "state": {}
     },
     "a81c0e5b00be4ee494a48af7c3e825ea": {
      "model_module": "@jupyter-widgets/base",
      "model_module_version": "1.1.0",
      "model_name": "LayoutModel",
      "state": {}
     },
     "a8f51f671143498a89418c569a2da675": {
      "model_module": "@jupyter-widgets/controls",
      "model_module_version": "1.4.0",
      "model_name": "HBoxModel",
      "state": {
       "children": [
        "IPY_MODEL_e0ccad31d26b4b96a4e767f6b05f712b",
        "IPY_MODEL_8f1582049ca64ee9b0b15138baa35a4d"
       ],
       "layout": "IPY_MODEL_409cc44278be4938adebef572a754646"
      }
     },
     "a93ecfb2df924818921dc833ad416535": {
      "model_module": "@jupyter-widgets/base",
      "model_module_version": "1.1.0",
      "model_name": "LayoutModel",
      "state": {}
     },
     "aa00cb24dc7d4313a047c7690925c919": {
      "model_module": "@jupyter-widgets/controls",
      "model_module_version": "1.4.0",
      "model_name": "HTMLModel",
      "state": {
       "layout": "IPY_MODEL_809d2374470541f1b9189c487405ad1f",
       "style": "IPY_MODEL_547b5c9731f8425998590cc45e32cb17",
       "value": "  0% 0/25 [00:00&lt;?, ?it/s]"
      }
     },
     "aa196ac414294831b9c4f6be4411497d": {
      "model_module": "@jupyter-widgets/controls",
      "model_module_version": "1.4.0",
      "model_name": "HTMLModel",
      "state": {
       "layout": "IPY_MODEL_d44ce48c2dc546f68bc93d5877b5d36e",
       "style": "IPY_MODEL_483de0f0f3c4423289ccee8612a78d27",
       "value": "100% 25/25 [02:08&lt;00:00,  5.16s/it]"
      }
     },
     "ab1d6ba6e0d743f69ea3d04cc866a56d": {
      "model_module": "@jupyter-widgets/base",
      "model_module_version": "1.1.0",
      "model_name": "LayoutModel",
      "state": {}
     },
     "ac875de57e5047649cbe2dc50473c9d5": {
      "model_module": "@jupyter-widgets/controls",
      "model_module_version": "1.4.0",
      "model_name": "IntProgressModel",
      "state": {
       "bar_style": "success",
       "layout": "IPY_MODEL_222f429c25c0496bb009acb1d0b1cf00",
       "max": 90,
       "style": "IPY_MODEL_57ff1eda83e848bb9c2fc8959ba97daa",
       "value": 90
      }
     },
     "aca7bcca156b445a8cad20927a353865": {
      "model_module": "@jupyter-widgets/controls",
      "model_module_version": "1.4.0",
      "model_name": "HBoxModel",
      "state": {
       "children": [
        "IPY_MODEL_b51a890a55cc4858aedb43b0a5ce3b09",
        "IPY_MODEL_56e9ede463924e29ab77a63e4b84be55"
       ],
       "layout": "IPY_MODEL_b3eb977be2794300b654eafae5f6eecf"
      }
     },
     "ad753ca0d3ab4b2fb16d01b58816586f": {
      "model_module": "@jupyter-widgets/controls",
      "model_module_version": "1.4.0",
      "model_name": "IntProgressModel",
      "state": {
       "bar_style": "danger",
       "layout": "IPY_MODEL_a61e64444efa4aaf8550cfed4dfe491a",
       "max": 25,
       "style": "IPY_MODEL_89372cf9870242d0afd62f481fb3e7b8",
       "value": 21
      }
     },
     "af5025986ad84838bd55b263951fdf08": {
      "model_module": "@jupyter-widgets/controls",
      "model_module_version": "1.4.0",
      "model_name": "IntProgressModel",
      "state": {
       "bar_style": "success",
       "layout": "IPY_MODEL_9b44b7140fc84627b1b124db44ff85b3",
       "max": 25,
       "style": "IPY_MODEL_c65f44d80f304c728e2f538e4b897b3a",
       "value": 25
      }
     },
     "afa5e83a39a244ecabe2482b0ca593e3": {
      "model_module": "@jupyter-widgets/controls",
      "model_module_version": "1.4.0",
      "model_name": "IntProgressModel",
      "state": {
       "bar_style": "danger",
       "layout": "IPY_MODEL_577acaa6b1274256915c4479152c1284",
       "max": 90,
       "style": "IPY_MODEL_0925e4c625154b2abe95f696a1fdbcba",
       "value": 17
      }
     },
     "b0f9bc537c1b4954bddc4a11d83713f5": {
      "model_module": "@jupyter-widgets/controls",
      "model_module_version": "1.4.0",
      "model_name": "HBoxModel",
      "state": {
       "children": [
        "IPY_MODEL_08fab5952a154a40a0fb0abe83454f92",
        "IPY_MODEL_d03589774c4d4f44af6481b1ed6f343b"
       ],
       "layout": "IPY_MODEL_b9f21dcfb64b4222b4d154a49782d495"
      }
     },
     "b15faa81899c44d5a946a56d38e66ff8": {
      "model_module": "@jupyter-widgets/base",
      "model_module_version": "1.1.0",
      "model_name": "LayoutModel",
      "state": {}
     },
     "b16a2b2f4d614ea2ad373a3cd71a6d44": {
      "model_module": "@jupyter-widgets/controls",
      "model_module_version": "1.4.0",
      "model_name": "HTMLModel",
      "state": {
       "layout": "IPY_MODEL_309369b6ad1645cebb279d52a0625b34",
       "style": "IPY_MODEL_662203e107a34036a68fc427d5706bf9",
       "value": "100% 100/100 [14:14&lt;00:00,  8.43s/it]"
      }
     },
     "b1909ee6073e443780891d989501f92f": {
      "model_module": "@jupyter-widgets/base",
      "model_module_version": "1.1.0",
      "model_name": "LayoutModel",
      "state": {}
     },
     "b1b29246f2a74c30b18df1afd48f1edb": {
      "model_module": "@jupyter-widgets/controls",
      "model_module_version": "1.4.0",
      "model_name": "DescriptionStyleModel",
      "state": {
       "description_width": ""
      }
     },
     "b25634b44d8945a98ecf0c00288638fe": {
      "model_module": "@jupyter-widgets/controls",
      "model_module_version": "1.4.0",
      "model_name": "HTMLModel",
      "state": {
       "layout": "IPY_MODEL_e4c64948dff0460b89f3d8175f7ff1a2",
       "style": "IPY_MODEL_9d7fb34e5e4c41b8961d0b7a6e72fdba",
       "value": "100% 90/90 [05:10&lt;00:00,  3.45s/it]"
      }
     },
     "b3b71b8f0b9146d8bed3ace0cd0ac985": {
      "model_module": "@jupyter-widgets/controls",
      "model_module_version": "1.4.0",
      "model_name": "ProgressStyleModel",
      "state": {
       "description_width": ""
      }
     },
     "b3d6e5c9eb6a44929739e5a3d10f498d": {
      "model_module": "@jupyter-widgets/base",
      "model_module_version": "1.1.0",
      "model_name": "LayoutModel",
      "state": {}
     },
     "b3eb977be2794300b654eafae5f6eecf": {
      "model_module": "@jupyter-widgets/base",
      "model_module_version": "1.1.0",
      "model_name": "LayoutModel",
      "state": {}
     },
     "b3fc19c236504832a686abbb0f1523bd": {
      "model_module": "@jupyter-widgets/base",
      "model_module_version": "1.1.0",
      "model_name": "LayoutModel",
      "state": {}
     },
     "b51a890a55cc4858aedb43b0a5ce3b09": {
      "model_module": "@jupyter-widgets/controls",
      "model_module_version": "1.4.0",
      "model_name": "IntProgressModel",
      "state": {
       "bar_style": "danger",
       "layout": "IPY_MODEL_b3d6e5c9eb6a44929739e5a3d10f498d",
       "max": 28,
       "style": "IPY_MODEL_a1df2afe6ea24698a55d13d59bd51ee7"
      }
     },
     "b53f4441deda48b594c6fa747ec56e76": {
      "model_module": "@jupyter-widgets/controls",
      "model_module_version": "1.4.0",
      "model_name": "ProgressStyleModel",
      "state": {
       "description_width": ""
      }
     },
     "b555ed8e7544400288fb0dc7ddae6018": {
      "model_module": "@jupyter-widgets/base",
      "model_module_version": "1.1.0",
      "model_name": "LayoutModel",
      "state": {}
     },
     "b71180b70dac49b1ac479f89f65e44a4": {
      "model_module": "@jupyter-widgets/controls",
      "model_module_version": "1.4.0",
      "model_name": "IntProgressModel",
      "state": {
       "bar_style": "danger",
       "layout": "IPY_MODEL_8ab741ff74ad4d0bbb83667676ceb105",
       "style": "IPY_MODEL_506b01250ee949c69513899431d2193a",
       "value": 34
      }
     },
     "b765225ac3f243a08234498ce74a3d6c": {
      "model_module": "@jupyter-widgets/base",
      "model_module_version": "1.1.0",
      "model_name": "LayoutModel",
      "state": {}
     },
     "b769d77d8fd744198bfb61f9a9c5ba32": {
      "model_module": "@jupyter-widgets/controls",
      "model_module_version": "1.4.0",
      "model_name": "HBoxModel",
      "state": {
       "children": [
        "IPY_MODEL_80bb2579f1674b46b3da3c57b2a7f099",
        "IPY_MODEL_d2e1632478b54dfc9ad014edfe7740a8"
       ],
       "layout": "IPY_MODEL_fcdff191fd304320be1ab613d399185a"
      }
     },
     "b7d7f107533a4333a992849d74ec6b1a": {
      "model_module": "@jupyter-widgets/base",
      "model_module_version": "1.1.0",
      "model_name": "LayoutModel",
      "state": {}
     },
     "b808b47be13348298c57426f84169311": {
      "model_module": "@jupyter-widgets/base",
      "model_module_version": "1.1.0",
      "model_name": "LayoutModel",
      "state": {}
     },
     "b900b5d56f854e47bffd581f7c12b13b": {
      "model_module": "@jupyter-widgets/base",
      "model_module_version": "1.1.0",
      "model_name": "LayoutModel",
      "state": {}
     },
     "b909f4b33ff74b28852566f818e51ad1": {
      "model_module": "@jupyter-widgets/controls",
      "model_module_version": "1.4.0",
      "model_name": "DescriptionStyleModel",
      "state": {
       "description_width": ""
      }
     },
     "b924013709a44841a0761693753ce766": {
      "model_module": "@jupyter-widgets/base",
      "model_module_version": "1.1.0",
      "model_name": "LayoutModel",
      "state": {}
     },
     "b983a237a8804b5d9940981bc986e6cf": {
      "model_module": "@jupyter-widgets/controls",
      "model_module_version": "1.4.0",
      "model_name": "HBoxModel",
      "state": {
       "children": [
        "IPY_MODEL_30458e818a364e41a4bdeae7082f09c9",
        "IPY_MODEL_7a7ffae8791f4d618153661b5997cdbd"
       ],
       "layout": "IPY_MODEL_60a2001ef02d477d90e959583af749ff"
      }
     },
     "b9e1a6247956495d97816f872caf479c": {
      "model_module": "@jupyter-widgets/controls",
      "model_module_version": "1.4.0",
      "model_name": "HTMLModel",
      "state": {
       "layout": "IPY_MODEL_3aa5427c81704e9ab37458c2adf9ae1a",
       "style": "IPY_MODEL_de2f18616d584ca4a7d4a7a168046c66",
       "value": "100% 90/90 [3:32:10&lt;00:00, 141.45s/it]"
      }
     },
     "b9f21dcfb64b4222b4d154a49782d495": {
      "model_module": "@jupyter-widgets/base",
      "model_module_version": "1.1.0",
      "model_name": "LayoutModel",
      "state": {}
     },
     "bb55af2679c04ca195cee18aa74c5a07": {
      "model_module": "@jupyter-widgets/controls",
      "model_module_version": "1.4.0",
      "model_name": "DescriptionStyleModel",
      "state": {
       "description_width": ""
      }
     },
     "bc0bc4336e654c149ee1d3937b4fef6b": {
      "model_module": "@jupyter-widgets/controls",
      "model_module_version": "1.4.0",
      "model_name": "HTMLModel",
      "state": {
       "layout": "IPY_MODEL_88f156f74c144e32b17542595b838e9c",
       "style": "IPY_MODEL_18aa8ef20501425499b18777348e6e3e",
       "value": "  0% 0/28 [00:00&lt;?, ?it/s]"
      }
     },
     "be40d655b9164d23b20d5f1a0075ea2c": {
      "model_module": "@jupyter-widgets/controls",
      "model_module_version": "1.4.0",
      "model_name": "IntProgressModel",
      "state": {
       "bar_style": "danger",
       "layout": "IPY_MODEL_0755420340cb4b588f03fc0f4a3fc65a",
       "max": 25,
       "style": "IPY_MODEL_8493dd76d772428dbae6d61acd69e237"
      }
     },
     "bfcae9cbfc904e54bb1431768d81b2fb": {
      "model_module": "@jupyter-widgets/controls",
      "model_module_version": "1.4.0",
      "model_name": "IntProgressModel",
      "state": {
       "bar_style": "success",
       "layout": "IPY_MODEL_0af6a8765044498092854f38ed428a5d",
       "max": 10,
       "style": "IPY_MODEL_eeaa46ab062a4e5c9e0bd0d5b5ad993e",
       "value": 10
      }
     },
     "c0c2a6850e0a4135a073c3ca3fb79398": {
      "model_module": "@jupyter-widgets/base",
      "model_module_version": "1.1.0",
      "model_name": "LayoutModel",
      "state": {}
     },
     "c11a4231c93b4ea49d9cd79a2736ca81": {
      "model_module": "@jupyter-widgets/controls",
      "model_module_version": "1.4.0",
      "model_name": "DescriptionStyleModel",
      "state": {
       "description_width": ""
      }
     },
     "c3fbdaeed3d54b72a289282aae31fc50": {
      "model_module": "@jupyter-widgets/base",
      "model_module_version": "1.1.0",
      "model_name": "LayoutModel",
      "state": {}
     },
     "c40816fda2f94b6caa178b74094061c5": {
      "model_module": "@jupyter-widgets/controls",
      "model_module_version": "1.4.0",
      "model_name": "ProgressStyleModel",
      "state": {
       "description_width": ""
      }
     },
     "c4806627ddae446b972a697404a873b2": {
      "model_module": "@jupyter-widgets/controls",
      "model_module_version": "1.4.0",
      "model_name": "HTMLModel",
      "state": {
       "layout": "IPY_MODEL_b3fc19c236504832a686abbb0f1523bd",
       "style": "IPY_MODEL_0730ec53f64f4be99d7759ab6f71d419",
       "value": "100% 25/25 [02:08&lt;00:00,  5.16s/it]"
      }
     },
     "c5d615275cf54f5993587bc6fcb2d23b": {
      "model_module": "@jupyter-widgets/controls",
      "model_module_version": "1.4.0",
      "model_name": "HBoxModel",
      "state": {
       "children": [
        "IPY_MODEL_bfcae9cbfc904e54bb1431768d81b2fb",
        "IPY_MODEL_d224da74a8814b97aee4b0ade8a9322a"
       ],
       "layout": "IPY_MODEL_de0aeadf9a7643fb8ccb311974de1e1a"
      }
     },
     "c65f44d80f304c728e2f538e4b897b3a": {
      "model_module": "@jupyter-widgets/controls",
      "model_module_version": "1.4.0",
      "model_name": "ProgressStyleModel",
      "state": {
       "description_width": ""
      }
     },
     "c6754d09255743fbaaed124e7055b5ad": {
      "model_module": "@jupyter-widgets/controls",
      "model_module_version": "1.4.0",
      "model_name": "ProgressStyleModel",
      "state": {
       "description_width": ""
      }
     },
     "c70636eb78c1478a9f5db863eccd930b": {
      "model_module": "@jupyter-widgets/base",
      "model_module_version": "1.1.0",
      "model_name": "LayoutModel",
      "state": {}
     },
     "c8b996fd40ac47faab23924c8acc0c44": {
      "model_module": "@jupyter-widgets/controls",
      "model_module_version": "1.4.0",
      "model_name": "HBoxModel",
      "state": {
       "children": [
        "IPY_MODEL_afa5e83a39a244ecabe2482b0ca593e3",
        "IPY_MODEL_ddf23fa78d244fbfa61efb3fa5f0c1cf"
       ],
       "layout": "IPY_MODEL_9ad7b812cb9b47d887b2c6657bf1cb0e"
      }
     },
     "c976210a1ce3463e9e8c9a4d1f1eb234": {
      "model_module": "@jupyter-widgets/base",
      "model_module_version": "1.1.0",
      "model_name": "LayoutModel",
      "state": {}
     },
     "ca17c544a2ba4e3e8fc97845ce158389": {
      "model_module": "@jupyter-widgets/base",
      "model_module_version": "1.1.0",
      "model_name": "LayoutModel",
      "state": {}
     },
     "cab298f49df742518365c70c6b1db565": {
      "model_module": "@jupyter-widgets/controls",
      "model_module_version": "1.4.0",
      "model_name": "HBoxModel",
      "state": {
       "children": [
        "IPY_MODEL_688b10a2664a420cad021abd21216866",
        "IPY_MODEL_646435b6956b4f119ccd43be89a6d4d7"
       ],
       "layout": "IPY_MODEL_1a755127dae1468b91c16a0093d315cb"
      }
     },
     "cb9e90fe5368457e8948f5dcb1d0a9bd": {
      "model_module": "@jupyter-widgets/controls",
      "model_module_version": "1.4.0",
      "model_name": "IntProgressModel",
      "state": {
       "bar_style": "success",
       "layout": "IPY_MODEL_c3fbdaeed3d54b72a289282aae31fc50",
       "max": 10,
       "style": "IPY_MODEL_4b456a75f3924eecbb6b764900caf834",
       "value": 10
      }
     },
     "cc12d13e77814bafa7660677de3d2226": {
      "model_module": "@jupyter-widgets/controls",
      "model_module_version": "1.4.0",
      "model_name": "IntProgressModel",
      "state": {
       "bar_style": "success",
       "layout": "IPY_MODEL_f67e0ffb7d8e46a2a195f4b0df342cc7",
       "max": 25,
       "style": "IPY_MODEL_c40816fda2f94b6caa178b74094061c5",
       "value": 25
      }
     },
     "cc7955fa6d8c4e2688c84cb23f1210a2": {
      "model_module": "@jupyter-widgets/base",
      "model_module_version": "1.1.0",
      "model_name": "LayoutModel",
      "state": {}
     },
     "cea73cba106144c8beae5fbcbc586fb5": {
      "model_module": "@jupyter-widgets/base",
      "model_module_version": "1.1.0",
      "model_name": "LayoutModel",
      "state": {}
     },
     "ced51f4e76b24fec84bf66f3cb101463": {
      "model_module": "@jupyter-widgets/base",
      "model_module_version": "1.1.0",
      "model_name": "LayoutModel",
      "state": {}
     },
     "d03589774c4d4f44af6481b1ed6f343b": {
      "model_module": "@jupyter-widgets/controls",
      "model_module_version": "1.4.0",
      "model_name": "HTMLModel",
      "state": {
       "layout": "IPY_MODEL_584704dd472e44f5b51c450f0a7fda25",
       "style": "IPY_MODEL_e5c6cf08fe8345c29edfc90d58f19faa",
       "value": "  0% 0/10 [00:00&lt;?, ?it/s]"
      }
     },
     "d086716c9a574e778ffea50e2535354c": {
      "model_module": "@jupyter-widgets/base",
      "model_module_version": "1.1.0",
      "model_name": "LayoutModel",
      "state": {}
     },
     "d1bdf1fc287a45e8970002dd9acebdf8": {
      "model_module": "@jupyter-widgets/controls",
      "model_module_version": "1.4.0",
      "model_name": "IntProgressModel",
      "state": {
       "bar_style": "danger",
       "layout": "IPY_MODEL_b1909ee6073e443780891d989501f92f",
       "style": "IPY_MODEL_53d612b7354c41dcabcc5cd9d2d752f4",
       "value": 6
      }
     },
     "d1d69545e01a407cb08df3bf0231eeef": {
      "model_module": "@jupyter-widgets/controls",
      "model_module_version": "1.4.0",
      "model_name": "HTMLModel",
      "state": {
       "layout": "IPY_MODEL_ab1d6ba6e0d743f69ea3d04cc866a56d",
       "style": "IPY_MODEL_c11a4231c93b4ea49d9cd79a2736ca81",
       "value": "100% 15/15 [01:17&lt;00:00,  5.16s/it]"
      }
     },
     "d224da74a8814b97aee4b0ade8a9322a": {
      "model_module": "@jupyter-widgets/controls",
      "model_module_version": "1.4.0",
      "model_name": "HTMLModel",
      "state": {
       "layout": "IPY_MODEL_26fcd982a99343088ec4c77f28a95892",
       "style": "IPY_MODEL_00bb70333765441bbcd4ca067c744ac1",
       "value": "100% 10/10 [00:51&lt;00:00,  5.15s/it]"
      }
     },
     "d2e1632478b54dfc9ad014edfe7740a8": {
      "model_module": "@jupyter-widgets/controls",
      "model_module_version": "1.4.0",
      "model_name": "HTMLModel",
      "state": {
       "layout": "IPY_MODEL_d667d53eef84400c81a3872e14bb9880",
       "style": "IPY_MODEL_1d3a98fd72d74f8a9a579f8fc23ea6ae",
       "value": "100% 100/100 [14:01&lt;00:00,  8.48s/it]"
      }
     },
     "d4196c89b27c4c26adda44727062c3a8": {
      "model_module": "@jupyter-widgets/controls",
      "model_module_version": "1.4.0",
      "model_name": "DescriptionStyleModel",
      "state": {
       "description_width": ""
      }
     },
     "d44ce48c2dc546f68bc93d5877b5d36e": {
      "model_module": "@jupyter-widgets/base",
      "model_module_version": "1.1.0",
      "model_name": "LayoutModel",
      "state": {}
     },
     "d4efc94cd337496ab9cf5a84254afda0": {
      "model_module": "@jupyter-widgets/controls",
      "model_module_version": "1.4.0",
      "model_name": "DescriptionStyleModel",
      "state": {
       "description_width": ""
      }
     },
     "d6403c7209a04062b78ae000955a302c": {
      "model_module": "@jupyter-widgets/base",
      "model_module_version": "1.1.0",
      "model_name": "LayoutModel",
      "state": {}
     },
     "d667d53eef84400c81a3872e14bb9880": {
      "model_module": "@jupyter-widgets/base",
      "model_module_version": "1.1.0",
      "model_name": "LayoutModel",
      "state": {}
     },
     "d748428f1cb84da3a92e6da5132ad895": {
      "model_module": "@jupyter-widgets/base",
      "model_module_version": "1.1.0",
      "model_name": "LayoutModel",
      "state": {}
     },
     "d799e98fa6204f1c83f8f21d27254eae": {
      "model_module": "@jupyter-widgets/base",
      "model_module_version": "1.1.0",
      "model_name": "LayoutModel",
      "state": {}
     },
     "d83623f789a3408192e95f9b7a56fd83": {
      "model_module": "@jupyter-widgets/base",
      "model_module_version": "1.1.0",
      "model_name": "LayoutModel",
      "state": {}
     },
     "d8432f0d2bc5414895ffb5a22765b452": {
      "model_module": "@jupyter-widgets/controls",
      "model_module_version": "1.4.0",
      "model_name": "HTMLModel",
      "state": {
       "layout": "IPY_MODEL_d748428f1cb84da3a92e6da5132ad895",
       "style": "IPY_MODEL_fb66944f02624c3ba4a49e7c20945ce0",
       "value": "100% 25/25 [02:08&lt;00:00,  5.15s/it]"
      }
     },
     "d8474593b70e4ce285f7aa1b29b53eae": {
      "model_module": "@jupyter-widgets/controls",
      "model_module_version": "1.4.0",
      "model_name": "IntProgressModel",
      "state": {
       "bar_style": "danger",
       "layout": "IPY_MODEL_3f392834ee304d1a8f3eea56009f65cd",
       "style": "IPY_MODEL_58baeff11a034988aecdd80d5cac4a03"
      }
     },
     "dc66ee113db94d458385bce9951ebbe7": {
      "model_module": "@jupyter-widgets/controls",
      "model_module_version": "1.4.0",
      "model_name": "HTMLModel",
      "state": {
       "layout": "IPY_MODEL_f578b3110f3a4cf6840b2a00f129faa2",
       "style": "IPY_MODEL_0303297ce1dd48c2bf42ce14d16149c7",
       "value": "  0% 0/100 [00:00&lt;?, ?it/s]"
      }
     },
     "ddb660f2302a4549a8ebff52148d7fb6": {
      "model_module": "@jupyter-widgets/base",
      "model_module_version": "1.1.0",
      "model_name": "LayoutModel",
      "state": {}
     },
     "ddf23fa78d244fbfa61efb3fa5f0c1cf": {
      "model_module": "@jupyter-widgets/controls",
      "model_module_version": "1.4.0",
      "model_name": "HTMLModel",
      "state": {
       "layout": "IPY_MODEL_1f000f15cc6f41e082081f74dea1f555",
       "style": "IPY_MODEL_f9469c6b3a8646129b9b0da6f10f7810",
       "value": " 19% 17/90 [3:35:09&lt;20:44:49, 1023.15s/it]"
      }
     },
     "de0aeadf9a7643fb8ccb311974de1e1a": {
      "model_module": "@jupyter-widgets/base",
      "model_module_version": "1.1.0",
      "model_name": "LayoutModel",
      "state": {}
     },
     "de2f18616d584ca4a7d4a7a168046c66": {
      "model_module": "@jupyter-widgets/controls",
      "model_module_version": "1.4.0",
      "model_name": "DescriptionStyleModel",
      "state": {
       "description_width": ""
      }
     },
     "de8e6c2fa3c040fb99a54c63f406f549": {
      "model_module": "@jupyter-widgets/controls",
      "model_module_version": "1.4.0",
      "model_name": "HTMLModel",
      "state": {
       "layout": "IPY_MODEL_ddb660f2302a4549a8ebff52148d7fb6",
       "style": "IPY_MODEL_82655ff32e8341fb8e6c0b95bbb329a5",
       "value": "  0% 0/10 [00:00&lt;?, ?it/s]"
      }
     },
     "e02d675509084f77828138f14141f831": {
      "model_module": "@jupyter-widgets/controls",
      "model_module_version": "1.4.0",
      "model_name": "ProgressStyleModel",
      "state": {
       "description_width": ""
      }
     },
     "e0a26e285aa1437397fd0d4002b94cc5": {
      "model_module": "@jupyter-widgets/controls",
      "model_module_version": "1.4.0",
      "model_name": "HTMLModel",
      "state": {
       "layout": "IPY_MODEL_02d7469796ed4348b5005ca26f3bf6e6",
       "style": "IPY_MODEL_5ccccd970fc44595ac93c33d3cc310fd",
       "value": " 34% 34/100 [19:49&lt;38:43, 35.20s/it]"
      }
     },
     "e0ccad31d26b4b96a4e767f6b05f712b": {
      "model_module": "@jupyter-widgets/controls",
      "model_module_version": "1.4.0",
      "model_name": "IntProgressModel",
      "state": {
       "bar_style": "danger",
       "layout": "IPY_MODEL_8f6fa134fe4c4d61a3f1dfaf7e14915e",
       "max": 9,
       "style": "IPY_MODEL_37c9d3e60f4f422bb0a9c1408dd33aa1"
      }
     },
     "e0d636b29b3a4641b125db3d27fe696c": {
      "model_module": "@jupyter-widgets/controls",
      "model_module_version": "1.4.0",
      "model_name": "DescriptionStyleModel",
      "state": {
       "description_width": ""
      }
     },
     "e0f96d7ee0e34747a8f38f937dba0ce4": {
      "model_module": "@jupyter-widgets/controls",
      "model_module_version": "1.4.0",
      "model_name": "HBoxModel",
      "state": {
       "children": [
        "IPY_MODEL_22f93b3278374f5dacacf7dc14949088",
        "IPY_MODEL_f307048d8eb249bf8e31fa1067d5feae"
       ],
       "layout": "IPY_MODEL_a81c0e5b00be4ee494a48af7c3e825ea"
      }
     },
     "e36c4eb1e6e14d8bbc910b699cfeb015": {
      "model_module": "@jupyter-widgets/controls",
      "model_module_version": "1.4.0",
      "model_name": "DescriptionStyleModel",
      "state": {
       "description_width": ""
      }
     },
     "e40c930925b44edd9f5d855d0a51ad3d": {
      "model_module": "@jupyter-widgets/controls",
      "model_module_version": "1.4.0",
      "model_name": "ProgressStyleModel",
      "state": {
       "description_width": ""
      }
     },
     "e4c64948dff0460b89f3d8175f7ff1a2": {
      "model_module": "@jupyter-widgets/base",
      "model_module_version": "1.1.0",
      "model_name": "LayoutModel",
      "state": {}
     },
     "e5c6cf08fe8345c29edfc90d58f19faa": {
      "model_module": "@jupyter-widgets/controls",
      "model_module_version": "1.4.0",
      "model_name": "DescriptionStyleModel",
      "state": {
       "description_width": ""
      }
     },
     "e7183cedfc854be2b7378bc062c92e70": {
      "model_module": "@jupyter-widgets/controls",
      "model_module_version": "1.4.0",
      "model_name": "HBoxModel",
      "state": {
       "children": [
        "IPY_MODEL_75f703b6e13344c48c6842c31c1881a7",
        "IPY_MODEL_3b2d377afc0f4617bfe8983590a518b5"
       ],
       "layout": "IPY_MODEL_9346cb026615479e8b1776f3e71a887d"
      }
     },
     "e7819519ba394835b38b047416ac628a": {
      "model_module": "@jupyter-widgets/controls",
      "model_module_version": "1.4.0",
      "model_name": "HBoxModel",
      "state": {
       "children": [
        "IPY_MODEL_be40d655b9164d23b20d5f1a0075ea2c",
        "IPY_MODEL_3e06aae64695403394fcd309df12ced8"
       ],
       "layout": "IPY_MODEL_7ef8ccd630374243abb0a27bdce1d00e"
      }
     },
     "e799e3d88dc14b5d8edd4708c833513a": {
      "model_module": "@jupyter-widgets/controls",
      "model_module_version": "1.4.0",
      "model_name": "HBoxModel",
      "state": {
       "children": [
        "IPY_MODEL_76d618d738da49ccadbe9535e8cbefc1",
        "IPY_MODEL_d8432f0d2bc5414895ffb5a22765b452"
       ],
       "layout": "IPY_MODEL_23f841d3843f479aba5ed9264c78c0f3"
      }
     },
     "eb8efefa18e44c7ca789776b18658160": {
      "model_module": "@jupyter-widgets/controls",
      "model_module_version": "1.4.0",
      "model_name": "IntProgressModel",
      "state": {
       "bar_style": "danger",
       "layout": "IPY_MODEL_5cda27c7def047d591f0dee574a6d7bb",
       "max": 9,
       "style": "IPY_MODEL_f7a52564e7ba4f5bb151899ecbb10ede"
      }
     },
     "ed5a62d3d2d6413daef65ebed1609ca4": {
      "model_module": "@jupyter-widgets/base",
      "model_module_version": "1.1.0",
      "model_name": "LayoutModel",
      "state": {}
     },
     "ed9a8e625c8a42dc93db0c144297448f": {
      "model_module": "@jupyter-widgets/controls",
      "model_module_version": "1.4.0",
      "model_name": "ProgressStyleModel",
      "state": {
       "description_width": ""
      }
     },
     "eeaa46ab062a4e5c9e0bd0d5b5ad993e": {
      "model_module": "@jupyter-widgets/controls",
      "model_module_version": "1.4.0",
      "model_name": "ProgressStyleModel",
      "state": {
       "description_width": ""
      }
     },
     "eeb510040e9c46fe95f34d82a0297333": {
      "model_module": "@jupyter-widgets/controls",
      "model_module_version": "1.4.0",
      "model_name": "IntProgressModel",
      "state": {
       "bar_style": "success",
       "layout": "IPY_MODEL_379d53ed1b394f22a7030319d48ad9e9",
       "max": 15,
       "style": "IPY_MODEL_035f4d0233a642f797ab26c2e24abba0",
       "value": 15
      }
     },
     "eedb1f3627ac4ed5946a02f825f80d5d": {
      "model_module": "@jupyter-widgets/base",
      "model_module_version": "1.1.0",
      "model_name": "LayoutModel",
      "state": {}
     },
     "f1eda9bb799543208e2c7e4168c35516": {
      "model_module": "@jupyter-widgets/base",
      "model_module_version": "1.1.0",
      "model_name": "LayoutModel",
      "state": {}
     },
     "f307048d8eb249bf8e31fa1067d5feae": {
      "model_module": "@jupyter-widgets/controls",
      "model_module_version": "1.4.0",
      "model_name": "HTMLModel",
      "state": {
       "layout": "IPY_MODEL_911531db34964ba495a851298ce02a74",
       "style": "IPY_MODEL_b1b29246f2a74c30b18df1afd48f1edb",
       "value": "  0% 0/9 [00:00&lt;?, ?it/s]"
      }
     },
     "f3b0f8dce0ca4aae9ce37be9c9df73b8": {
      "model_module": "@jupyter-widgets/controls",
      "model_module_version": "1.4.0",
      "model_name": "HBoxModel",
      "state": {
       "children": [
        "IPY_MODEL_8a970e858a17453ba8cfddc0ed76c991",
        "IPY_MODEL_366f659758b34c87afaf2147917ede65"
       ],
       "layout": "IPY_MODEL_b808b47be13348298c57426f84169311"
      }
     },
     "f426a0d865e347759f68be85b90cfbb8": {
      "model_module": "@jupyter-widgets/controls",
      "model_module_version": "1.4.0",
      "model_name": "ProgressStyleModel",
      "state": {
       "description_width": ""
      }
     },
     "f5281ad0c9b848dbafa428b8ceffeb68": {
      "model_module": "@jupyter-widgets/base",
      "model_module_version": "1.1.0",
      "model_name": "LayoutModel",
      "state": {}
     },
     "f577ceaefdc64d87b930c1f97324bd9f": {
      "model_module": "@jupyter-widgets/controls",
      "model_module_version": "1.4.0",
      "model_name": "IntProgressModel",
      "state": {
       "bar_style": "success",
       "layout": "IPY_MODEL_41e1e763c865476080594157a084957f",
       "max": 28,
       "style": "IPY_MODEL_b3b71b8f0b9146d8bed3ace0cd0ac985",
       "value": 28
      }
     },
     "f578b3110f3a4cf6840b2a00f129faa2": {
      "model_module": "@jupyter-widgets/base",
      "model_module_version": "1.1.0",
      "model_name": "LayoutModel",
      "state": {}
     },
     "f67e0ffb7d8e46a2a195f4b0df342cc7": {
      "model_module": "@jupyter-widgets/base",
      "model_module_version": "1.1.0",
      "model_name": "LayoutModel",
      "state": {}
     },
     "f7a52564e7ba4f5bb151899ecbb10ede": {
      "model_module": "@jupyter-widgets/controls",
      "model_module_version": "1.4.0",
      "model_name": "ProgressStyleModel",
      "state": {
       "description_width": ""
      }
     },
     "f8a07f8007d246c19a5b02ad930d2d32": {
      "model_module": "@jupyter-widgets/controls",
      "model_module_version": "1.4.0",
      "model_name": "HBoxModel",
      "state": {
       "children": [
        "IPY_MODEL_64fa9b445c4b437a8a5b03373e61cfbe",
        "IPY_MODEL_b25634b44d8945a98ecf0c00288638fe"
       ],
       "layout": "IPY_MODEL_019c92a2556c4ea4adc5b807f427f583"
      }
     },
     "f9469c6b3a8646129b9b0da6f10f7810": {
      "model_module": "@jupyter-widgets/controls",
      "model_module_version": "1.4.0",
      "model_name": "DescriptionStyleModel",
      "state": {
       "description_width": ""
      }
     },
     "f9ee2e87a5004d5f80ac4c183fd3d0b3": {
      "model_module": "@jupyter-widgets/controls",
      "model_module_version": "1.4.0",
      "model_name": "IntProgressModel",
      "state": {
       "bar_style": "success",
       "layout": "IPY_MODEL_6fbce630aaa94a1a94f4ea834d7a4dab",
       "max": 90,
       "style": "IPY_MODEL_ed9a8e625c8a42dc93db0c144297448f",
       "value": 90
      }
     },
     "fa465225c61942198ecc234f7ef45a38": {
      "model_module": "@jupyter-widgets/base",
      "model_module_version": "1.1.0",
      "model_name": "LayoutModel",
      "state": {}
     },
     "fb01204cb4f24aec8a48c30c735b86fe": {
      "model_module": "@jupyter-widgets/base",
      "model_module_version": "1.1.0",
      "model_name": "LayoutModel",
      "state": {}
     },
     "fb2de3ebf4c144b08e2ab8945b1b8e5f": {
      "model_module": "@jupyter-widgets/base",
      "model_module_version": "1.1.0",
      "model_name": "LayoutModel",
      "state": {}
     },
     "fb517b53d19a42f0991652b26df16e8e": {
      "model_module": "@jupyter-widgets/base",
      "model_module_version": "1.1.0",
      "model_name": "LayoutModel",
      "state": {}
     },
     "fb66944f02624c3ba4a49e7c20945ce0": {
      "model_module": "@jupyter-widgets/controls",
      "model_module_version": "1.4.0",
      "model_name": "DescriptionStyleModel",
      "state": {
       "description_width": ""
      }
     },
     "fcdff191fd304320be1ab613d399185a": {
      "model_module": "@jupyter-widgets/base",
      "model_module_version": "1.1.0",
      "model_name": "LayoutModel",
      "state": {}
     },
     "fcee3acd03ef4c57a2be82a8f4198059": {
      "model_module": "@jupyter-widgets/controls",
      "model_module_version": "1.4.0",
      "model_name": "DescriptionStyleModel",
      "state": {
       "description_width": ""
      }
     },
     "fe9209585e9b4a21bd87c71f9952be37": {
      "model_module": "@jupyter-widgets/controls",
      "model_module_version": "1.4.0",
      "model_name": "DescriptionStyleModel",
      "state": {
       "description_width": ""
      }
     },
     "fe99ea4107cf4a46914a447d8770b58c": {
      "model_module": "@jupyter-widgets/controls",
      "model_module_version": "1.4.0",
      "model_name": "ProgressStyleModel",
      "state": {
       "description_width": ""
      }
     }
    },
    "version_major": 2,
    "version_minor": 0
   }
  }
 },
 "nbformat": 4,
 "nbformat_minor": 2
}
